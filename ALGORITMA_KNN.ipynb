{
  "cells": [
    {
      "cell_type": "markdown",
      "metadata": {
        "id": "view-in-github",
        "colab_type": "text"
      },
      "source": [
        "<a href=\"https://colab.research.google.com/github/MAM-06/MAM/blob/main/ALGORITMA_KNN.ipynb\" target=\"_parent\"><img src=\"https://colab.research.google.com/assets/colab-badge.svg\" alt=\"Open In Colab\"/></a>"
      ]
    },
    {
      "cell_type": "markdown",
      "metadata": {
        "id": "8d3fc91d"
      },
      "source": [
        "# ALGORITMA KNN  <a class=\"anchor\" id=\"section_1\"></a>"
      ],
      "id": "8d3fc91d"
    },
    {
      "cell_type": "markdown",
      "metadata": {
        "id": "aa49ee58"
      },
      "source": [
        "# IMPORT LIBRARY UTAMA <a class=\"anchor\" id=\"section_2_1\"></a>"
      ],
      "id": "aa49ee58"
    },
    {
      "cell_type": "code",
      "execution_count": null,
      "metadata": {
        "id": "f4c40b61"
      },
      "outputs": [],
      "source": [
        "import numpy as np # linear algebra aljabar linier\n",
        "import pandas as pd # data processing, CSV file I/O (e.g. pd.read_csv)"
      ],
      "id": "f4c40b61"
    },
    {
      "cell_type": "markdown",
      "metadata": {
        "id": "76d6e458"
      },
      "source": [
        "# Membaca Data dan Praproses <a class=\"anchor\" id=\"section_2_2\"></a>"
      ],
      "id": "76d6e458"
    },
    {
      "cell_type": "code",
      "execution_count": null,
      "metadata": {
        "colab": {
          "base_uri": "https://localhost:8080/"
        },
        "id": "TfNUiFVU3tno",
        "outputId": "6d8cad40-1136-49d0-b3fb-3d21dfe0ecb7"
      },
      "outputs": [
        {
          "output_type": "stream",
          "name": "stdout",
          "text": [
            "Drive already mounted at /content/drive; to attempt to forcibly remount, call drive.mount(\"/content/drive\", force_remount=True).\n"
          ]
        }
      ],
      "source": [
        "from google.colab import drive\n",
        "drive.mount('/content/drive')"
      ],
      "id": "TfNUiFVU3tno"
    },
    {
      "cell_type": "markdown",
      "metadata": {
        "id": "J9ucdCIvKOJ2"
      },
      "source": [
        "INPUT DATASET"
      ],
      "id": "J9ucdCIvKOJ2"
    },
    {
      "cell_type": "code",
      "execution_count": null,
      "metadata": {
        "id": "nVfMtyn_3vjI"
      },
      "outputs": [],
      "source": [
        "data = pd.read_excel(\"/content/drive/MyDrive/ANGKATAN.2021-2023.xlsx\")"
      ],
      "id": "nVfMtyn_3vjI"
    },
    {
      "cell_type": "code",
      "execution_count": null,
      "metadata": {
        "id": "51f0840f",
        "colab": {
          "base_uri": "https://localhost:8080/"
        },
        "outputId": "6b0232e6-61be-487e-ed3b-cbe0f029f9b7"
      },
      "outputs": [
        {
          "output_type": "stream",
          "name": "stdout",
          "text": [
            "      NO                  Nama Siswa NISN IJAZAH  \\\n",
            "0      1                AMAR SUBEKTI  0065517838   \n",
            "1      2     BAYU IRAWAN DWI SANTOSO  3052894868   \n",
            "2      3          DA`A SAHRU ROZIKIN  0053965385   \n",
            "3      4     DIMAS MAULANA RAMADHANI  0054861560   \n",
            "4      5        FEBRIARDO EKA AQRAFA  0058815747   \n",
            "..   ...                         ...         ...   \n",
            "454  455         SULKHA NUR FADHILAH  0068242197   \n",
            "455  456  TATA AURELYA PUTRI VIRTIDA  0069992032   \n",
            "456  457    TRI AGUSTIN SETIANINGSIH  0066556811   \n",
            "457  458           TUSAMMA SALSABILA  0076783641   \n",
            "458  459              ZAKIA FARADIBA  3062951968   \n",
            "\n",
            "     Nomor Induk Kependudukan\\n (NIK) Siswa Jenis\\nKelamin  \\\n",
            "0                          3603120209060001      Laki-laki   \n",
            "1                          3505092806050001      Laki-laki   \n",
            "2                          3505172112050001      Laki-laki   \n",
            "3                          3507011910050001      Laki-laki   \n",
            "4                          3572020902050002      Laki-laki   \n",
            "..                                      ...            ...   \n",
            "454                      131235720001220161      Perempuan   \n",
            "455                      131235720001220162      Perempuan   \n",
            "456                      131235720001220163      Perempuan   \n",
            "457                      131235720001220164      Perempuan   \n",
            "458                      131235720001220165      Perempuan   \n",
            "\n",
            "             Tempat Tanggal Lahir                       Asal Sekolah  \\\n",
            "0    Tangerang, 02 September 2006       SMP ISLAM HARAPAN IBU SCHOOL   \n",
            "1            Blitar, 28 Juni 2005              MTs MA'ARIF NU BLITAR   \n",
            "2        Blitar, 21 Desember 2005              MTs MA'ARIF NU BLITAR   \n",
            "3         Malang, 19 Oktober 2005              MTs MA'ARIF NU BLITAR   \n",
            "4        Blitar, 09 Februari 2005           SMP NEGERI 7 KOTA BLITAR   \n",
            "..                            ...                                ...   \n",
            "454      Blitar, 23 Desember 2006  MTs MA'ARIF NU 2 SUTOJAYAN BLITAR   \n",
            "455      Kediri, 18 November 2006              MTs MA'ARIF NU BLITAR   \n",
            "456       Blitar, 26 Agustus 2006              MTs MA'ARIF NU BLITAR   \n",
            "457       Blitar, 04 Januari 2007              MTs MA'ARIF NU BLITAR   \n",
            "458      Blitar, 05 Desember 2006              MTs MA'ARIF NU BLITAR   \n",
            "\n",
            "     Rata-rata nilai IPA  Rata-rata nilai IPS  Rata-rata nilai AGAMA     Kelas  \n",
            "0                  70.25                70.75                  74.00  X.AGAMA.  \n",
            "1                  69.25                71.25                  78.00  X.AGAMA.  \n",
            "2                  71.50                66.25                  92.00  X.AGAMA.  \n",
            "3                  67.25                72.75                  69.00  X.AGAMA.  \n",
            "4                  67.00                70.75                  69.75  X.AGAMA.  \n",
            "..                   ...                  ...                    ...       ...  \n",
            "454                90.25                77.25                  77.75   X MIPA   \n",
            "455                88.75                77.25                  76.50   X MIPA   \n",
            "456                95.50                80.25                  74.50   X MIPA   \n",
            "457                91.50                75.75                  74.25   X MIPA   \n",
            "458                88.25                76.00                  75.25   X MIPA   \n",
            "\n",
            "[459 rows x 11 columns]\n"
          ]
        }
      ],
      "source": [
        "print (data)"
      ],
      "id": "51f0840f"
    },
    {
      "cell_type": "code",
      "execution_count": null,
      "metadata": {
        "id": "6eb70116"
      },
      "outputs": [],
      "source": [
        "def object_cols(df):\n",
        "    return list(df.select_dtypes(include='object').columns)\n",
        "\n",
        "def numerical_cols(df):\n",
        "    return list(df.select_dtypes(exclude='object').columns)"
      ],
      "id": "6eb70116"
    },
    {
      "cell_type": "code",
      "execution_count": null,
      "metadata": {
        "id": "0d443ed2"
      },
      "outputs": [],
      "source": [
        "obj_col = object_cols(data)\n",
        "num_col = numerical_cols(data)"
      ],
      "id": "0d443ed2"
    },
    {
      "cell_type": "code",
      "execution_count": null,
      "metadata": {
        "id": "dc1259bb",
        "colab": {
          "base_uri": "https://localhost:8080/"
        },
        "outputId": "10bb7baa-05a0-48a2-c92f-a3b20f99f96a"
      },
      "outputs": [
        {
          "output_type": "execute_result",
          "data": {
            "text/plain": [
              "['Nama Siswa',\n",
              " 'NISN IJAZAH',\n",
              " 'Jenis\\nKelamin',\n",
              " 'Tempat Tanggal Lahir',\n",
              " 'Asal Sekolah',\n",
              " ' Kelas']"
            ]
          },
          "metadata": {},
          "execution_count": 59
        }
      ],
      "source": [
        "obj_col"
      ],
      "id": "dc1259bb"
    },
    {
      "cell_type": "code",
      "execution_count": null,
      "metadata": {
        "id": "715a6275",
        "colab": {
          "base_uri": "https://localhost:8080/"
        },
        "outputId": "7ddbdf5a-aa17-485f-b112-9a983a39eb28"
      },
      "outputs": [
        {
          "output_type": "execute_result",
          "data": {
            "text/plain": [
              "['NO',\n",
              " 'Nomor Induk Kependudukan\\n (NIK) Siswa',\n",
              " 'Rata-rata nilai IPA',\n",
              " 'Rata-rata nilai IPS',\n",
              " 'Rata-rata nilai AGAMA']"
            ]
          },
          "metadata": {},
          "execution_count": 60
        }
      ],
      "source": [
        "num_col"
      ],
      "id": "715a6275"
    },
    {
      "cell_type": "code",
      "execution_count": null,
      "metadata": {
        "id": "284ef2e6",
        "colab": {
          "base_uri": "https://localhost:8080/",
          "height": 528
        },
        "outputId": "3e647275-3dce-413f-e7de-14e18bcde8d1"
      },
      "outputs": [
        {
          "output_type": "execute_result",
          "data": {
            "text/plain": [
              "   NO               Nama Siswa NISN IJAZAH  \\\n",
              "0   1             AMAR SUBEKTI  0065517838   \n",
              "1   2  BAYU IRAWAN DWI SANTOSO  3052894868   \n",
              "2   3       DA`A SAHRU ROZIKIN  0053965385   \n",
              "3   4  DIMAS MAULANA RAMADHANI  0054861560   \n",
              "4   5     FEBRIARDO EKA AQRAFA  0058815747   \n",
              "\n",
              "   Nomor Induk Kependudukan\\n (NIK) Siswa Jenis\\nKelamin  \\\n",
              "0                        3603120209060001      Laki-laki   \n",
              "1                        3505092806050001      Laki-laki   \n",
              "2                        3505172112050001      Laki-laki   \n",
              "3                        3507011910050001      Laki-laki   \n",
              "4                        3572020902050002      Laki-laki   \n",
              "\n",
              "           Tempat Tanggal Lahir                  Asal Sekolah  \\\n",
              "0  Tangerang, 02 September 2006  SMP ISLAM HARAPAN IBU SCHOOL   \n",
              "1          Blitar, 28 Juni 2005         MTs MA'ARIF NU BLITAR   \n",
              "2      Blitar, 21 Desember 2005         MTs MA'ARIF NU BLITAR   \n",
              "3       Malang, 19 Oktober 2005         MTs MA'ARIF NU BLITAR   \n",
              "4      Blitar, 09 Februari 2005      SMP NEGERI 7 KOTA BLITAR   \n",
              "\n",
              "   Rata-rata nilai IPA  Rata-rata nilai IPS  Rata-rata nilai AGAMA     Kelas  \n",
              "0                70.25                70.75                  74.00  X.AGAMA.  \n",
              "1                69.25                71.25                  78.00  X.AGAMA.  \n",
              "2                71.50                66.25                  92.00  X.AGAMA.  \n",
              "3                67.25                72.75                  69.00  X.AGAMA.  \n",
              "4                67.00                70.75                  69.75  X.AGAMA.  "
            ],
            "text/html": [
              "\n",
              "  <div id=\"df-343dc404-d176-4232-b4e7-834835d0165c\">\n",
              "    <div class=\"colab-df-container\">\n",
              "      <div>\n",
              "<style scoped>\n",
              "    .dataframe tbody tr th:only-of-type {\n",
              "        vertical-align: middle;\n",
              "    }\n",
              "\n",
              "    .dataframe tbody tr th {\n",
              "        vertical-align: top;\n",
              "    }\n",
              "\n",
              "    .dataframe thead th {\n",
              "        text-align: right;\n",
              "    }\n",
              "</style>\n",
              "<table border=\"1\" class=\"dataframe\">\n",
              "  <thead>\n",
              "    <tr style=\"text-align: right;\">\n",
              "      <th></th>\n",
              "      <th>NO</th>\n",
              "      <th>Nama Siswa</th>\n",
              "      <th>NISN IJAZAH</th>\n",
              "      <th>Nomor Induk Kependudukan\\n (NIK) Siswa</th>\n",
              "      <th>Jenis\\nKelamin</th>\n",
              "      <th>Tempat Tanggal Lahir</th>\n",
              "      <th>Asal Sekolah</th>\n",
              "      <th>Rata-rata nilai IPA</th>\n",
              "      <th>Rata-rata nilai IPS</th>\n",
              "      <th>Rata-rata nilai AGAMA</th>\n",
              "      <th>Kelas</th>\n",
              "    </tr>\n",
              "  </thead>\n",
              "  <tbody>\n",
              "    <tr>\n",
              "      <th>0</th>\n",
              "      <td>1</td>\n",
              "      <td>AMAR SUBEKTI</td>\n",
              "      <td>0065517838</td>\n",
              "      <td>3603120209060001</td>\n",
              "      <td>Laki-laki</td>\n",
              "      <td>Tangerang, 02 September 2006</td>\n",
              "      <td>SMP ISLAM HARAPAN IBU SCHOOL</td>\n",
              "      <td>70.25</td>\n",
              "      <td>70.75</td>\n",
              "      <td>74.00</td>\n",
              "      <td>X.AGAMA.</td>\n",
              "    </tr>\n",
              "    <tr>\n",
              "      <th>1</th>\n",
              "      <td>2</td>\n",
              "      <td>BAYU IRAWAN DWI SANTOSO</td>\n",
              "      <td>3052894868</td>\n",
              "      <td>3505092806050001</td>\n",
              "      <td>Laki-laki</td>\n",
              "      <td>Blitar, 28 Juni 2005</td>\n",
              "      <td>MTs MA'ARIF NU BLITAR</td>\n",
              "      <td>69.25</td>\n",
              "      <td>71.25</td>\n",
              "      <td>78.00</td>\n",
              "      <td>X.AGAMA.</td>\n",
              "    </tr>\n",
              "    <tr>\n",
              "      <th>2</th>\n",
              "      <td>3</td>\n",
              "      <td>DA`A SAHRU ROZIKIN</td>\n",
              "      <td>0053965385</td>\n",
              "      <td>3505172112050001</td>\n",
              "      <td>Laki-laki</td>\n",
              "      <td>Blitar, 21 Desember 2005</td>\n",
              "      <td>MTs MA'ARIF NU BLITAR</td>\n",
              "      <td>71.50</td>\n",
              "      <td>66.25</td>\n",
              "      <td>92.00</td>\n",
              "      <td>X.AGAMA.</td>\n",
              "    </tr>\n",
              "    <tr>\n",
              "      <th>3</th>\n",
              "      <td>4</td>\n",
              "      <td>DIMAS MAULANA RAMADHANI</td>\n",
              "      <td>0054861560</td>\n",
              "      <td>3507011910050001</td>\n",
              "      <td>Laki-laki</td>\n",
              "      <td>Malang, 19 Oktober 2005</td>\n",
              "      <td>MTs MA'ARIF NU BLITAR</td>\n",
              "      <td>67.25</td>\n",
              "      <td>72.75</td>\n",
              "      <td>69.00</td>\n",
              "      <td>X.AGAMA.</td>\n",
              "    </tr>\n",
              "    <tr>\n",
              "      <th>4</th>\n",
              "      <td>5</td>\n",
              "      <td>FEBRIARDO EKA AQRAFA</td>\n",
              "      <td>0058815747</td>\n",
              "      <td>3572020902050002</td>\n",
              "      <td>Laki-laki</td>\n",
              "      <td>Blitar, 09 Februari 2005</td>\n",
              "      <td>SMP NEGERI 7 KOTA BLITAR</td>\n",
              "      <td>67.00</td>\n",
              "      <td>70.75</td>\n",
              "      <td>69.75</td>\n",
              "      <td>X.AGAMA.</td>\n",
              "    </tr>\n",
              "  </tbody>\n",
              "</table>\n",
              "</div>\n",
              "      <button class=\"colab-df-convert\" onclick=\"convertToInteractive('df-343dc404-d176-4232-b4e7-834835d0165c')\"\n",
              "              title=\"Convert this dataframe to an interactive table.\"\n",
              "              style=\"display:none;\">\n",
              "        \n",
              "  <svg xmlns=\"http://www.w3.org/2000/svg\" height=\"24px\"viewBox=\"0 0 24 24\"\n",
              "       width=\"24px\">\n",
              "    <path d=\"M0 0h24v24H0V0z\" fill=\"none\"/>\n",
              "    <path d=\"M18.56 5.44l.94 2.06.94-2.06 2.06-.94-2.06-.94-.94-2.06-.94 2.06-2.06.94zm-11 1L8.5 8.5l.94-2.06 2.06-.94-2.06-.94L8.5 2.5l-.94 2.06-2.06.94zm10 10l.94 2.06.94-2.06 2.06-.94-2.06-.94-.94-2.06-.94 2.06-2.06.94z\"/><path d=\"M17.41 7.96l-1.37-1.37c-.4-.4-.92-.59-1.43-.59-.52 0-1.04.2-1.43.59L10.3 9.45l-7.72 7.72c-.78.78-.78 2.05 0 2.83L4 21.41c.39.39.9.59 1.41.59.51 0 1.02-.2 1.41-.59l7.78-7.78 2.81-2.81c.8-.78.8-2.07 0-2.86zM5.41 20L4 18.59l7.72-7.72 1.47 1.35L5.41 20z\"/>\n",
              "  </svg>\n",
              "      </button>\n",
              "      \n",
              "  <style>\n",
              "    .colab-df-container {\n",
              "      display:flex;\n",
              "      flex-wrap:wrap;\n",
              "      gap: 12px;\n",
              "    }\n",
              "\n",
              "    .colab-df-convert {\n",
              "      background-color: #E8F0FE;\n",
              "      border: none;\n",
              "      border-radius: 50%;\n",
              "      cursor: pointer;\n",
              "      display: none;\n",
              "      fill: #1967D2;\n",
              "      height: 32px;\n",
              "      padding: 0 0 0 0;\n",
              "      width: 32px;\n",
              "    }\n",
              "\n",
              "    .colab-df-convert:hover {\n",
              "      background-color: #E2EBFA;\n",
              "      box-shadow: 0px 1px 2px rgba(60, 64, 67, 0.3), 0px 1px 3px 1px rgba(60, 64, 67, 0.15);\n",
              "      fill: #174EA6;\n",
              "    }\n",
              "\n",
              "    [theme=dark] .colab-df-convert {\n",
              "      background-color: #3B4455;\n",
              "      fill: #D2E3FC;\n",
              "    }\n",
              "\n",
              "    [theme=dark] .colab-df-convert:hover {\n",
              "      background-color: #434B5C;\n",
              "      box-shadow: 0px 1px 3px 1px rgba(0, 0, 0, 0.15);\n",
              "      filter: drop-shadow(0px 1px 2px rgba(0, 0, 0, 0.3));\n",
              "      fill: #FFFFFF;\n",
              "    }\n",
              "  </style>\n",
              "\n",
              "      <script>\n",
              "        const buttonEl =\n",
              "          document.querySelector('#df-343dc404-d176-4232-b4e7-834835d0165c button.colab-df-convert');\n",
              "        buttonEl.style.display =\n",
              "          google.colab.kernel.accessAllowed ? 'block' : 'none';\n",
              "\n",
              "        async function convertToInteractive(key) {\n",
              "          const element = document.querySelector('#df-343dc404-d176-4232-b4e7-834835d0165c');\n",
              "          const dataTable =\n",
              "            await google.colab.kernel.invokeFunction('convertToInteractive',\n",
              "                                                     [key], {});\n",
              "          if (!dataTable) return;\n",
              "\n",
              "          const docLinkHtml = 'Like what you see? Visit the ' +\n",
              "            '<a target=\"_blank\" href=https://colab.research.google.com/notebooks/data_table.ipynb>data table notebook</a>'\n",
              "            + ' to learn more about interactive tables.';\n",
              "          element.innerHTML = '';\n",
              "          dataTable['output_type'] = 'display_data';\n",
              "          await google.colab.output.renderOutput(dataTable, element);\n",
              "          const docLink = document.createElement('div');\n",
              "          docLink.innerHTML = docLinkHtml;\n",
              "          element.appendChild(docLink);\n",
              "        }\n",
              "      </script>\n",
              "    </div>\n",
              "  </div>\n",
              "  "
            ]
          },
          "metadata": {},
          "execution_count": 61
        }
      ],
      "source": [
        "data.head()"
      ],
      "id": "284ef2e6"
    },
    {
      "cell_type": "markdown",
      "metadata": {
        "id": "2f244a78"
      },
      "source": [
        "# k-NN Algorithm with sklearn <a class=\"anchor\" id=\"section_3\"></a>"
      ],
      "id": "2f244a78"
    },
    {
      "cell_type": "code",
      "execution_count": null,
      "metadata": {
        "id": "8DQ_PCdwtvWB",
        "colab": {
          "base_uri": "https://localhost:8080/",
          "height": 75
        },
        "outputId": "f1a4589d-aa0e-493b-dbce-4257c8affdbc"
      },
      "outputs": [
        {
          "output_type": "execute_result",
          "data": {
            "text/plain": [
              "LabelEncoder()"
            ],
            "text/html": [
              "<style>#sk-container-id-3 {color: black;background-color: white;}#sk-container-id-3 pre{padding: 0;}#sk-container-id-3 div.sk-toggleable {background-color: white;}#sk-container-id-3 label.sk-toggleable__label {cursor: pointer;display: block;width: 100%;margin-bottom: 0;padding: 0.3em;box-sizing: border-box;text-align: center;}#sk-container-id-3 label.sk-toggleable__label-arrow:before {content: \"▸\";float: left;margin-right: 0.25em;color: #696969;}#sk-container-id-3 label.sk-toggleable__label-arrow:hover:before {color: black;}#sk-container-id-3 div.sk-estimator:hover label.sk-toggleable__label-arrow:before {color: black;}#sk-container-id-3 div.sk-toggleable__content {max-height: 0;max-width: 0;overflow: hidden;text-align: left;background-color: #f0f8ff;}#sk-container-id-3 div.sk-toggleable__content pre {margin: 0.2em;color: black;border-radius: 0.25em;background-color: #f0f8ff;}#sk-container-id-3 input.sk-toggleable__control:checked~div.sk-toggleable__content {max-height: 200px;max-width: 100%;overflow: auto;}#sk-container-id-3 input.sk-toggleable__control:checked~label.sk-toggleable__label-arrow:before {content: \"▾\";}#sk-container-id-3 div.sk-estimator input.sk-toggleable__control:checked~label.sk-toggleable__label {background-color: #d4ebff;}#sk-container-id-3 div.sk-label input.sk-toggleable__control:checked~label.sk-toggleable__label {background-color: #d4ebff;}#sk-container-id-3 input.sk-hidden--visually {border: 0;clip: rect(1px 1px 1px 1px);clip: rect(1px, 1px, 1px, 1px);height: 1px;margin: -1px;overflow: hidden;padding: 0;position: absolute;width: 1px;}#sk-container-id-3 div.sk-estimator {font-family: monospace;background-color: #f0f8ff;border: 1px dotted black;border-radius: 0.25em;box-sizing: border-box;margin-bottom: 0.5em;}#sk-container-id-3 div.sk-estimator:hover {background-color: #d4ebff;}#sk-container-id-3 div.sk-parallel-item::after {content: \"\";width: 100%;border-bottom: 1px solid gray;flex-grow: 1;}#sk-container-id-3 div.sk-label:hover label.sk-toggleable__label {background-color: #d4ebff;}#sk-container-id-3 div.sk-serial::before {content: \"\";position: absolute;border-left: 1px solid gray;box-sizing: border-box;top: 0;bottom: 0;left: 50%;z-index: 0;}#sk-container-id-3 div.sk-serial {display: flex;flex-direction: column;align-items: center;background-color: white;padding-right: 0.2em;padding-left: 0.2em;position: relative;}#sk-container-id-3 div.sk-item {position: relative;z-index: 1;}#sk-container-id-3 div.sk-parallel {display: flex;align-items: stretch;justify-content: center;background-color: white;position: relative;}#sk-container-id-3 div.sk-item::before, #sk-container-id-3 div.sk-parallel-item::before {content: \"\";position: absolute;border-left: 1px solid gray;box-sizing: border-box;top: 0;bottom: 0;left: 50%;z-index: -1;}#sk-container-id-3 div.sk-parallel-item {display: flex;flex-direction: column;z-index: 1;position: relative;background-color: white;}#sk-container-id-3 div.sk-parallel-item:first-child::after {align-self: flex-end;width: 50%;}#sk-container-id-3 div.sk-parallel-item:last-child::after {align-self: flex-start;width: 50%;}#sk-container-id-3 div.sk-parallel-item:only-child::after {width: 0;}#sk-container-id-3 div.sk-dashed-wrapped {border: 1px dashed gray;margin: 0 0.4em 0.5em 0.4em;box-sizing: border-box;padding-bottom: 0.4em;background-color: white;}#sk-container-id-3 div.sk-label label {font-family: monospace;font-weight: bold;display: inline-block;line-height: 1.2em;}#sk-container-id-3 div.sk-label-container {text-align: center;}#sk-container-id-3 div.sk-container {/* jupyter's `normalize.less` sets `[hidden] { display: none; }` but bootstrap.min.css set `[hidden] { display: none !important; }` so we also need the `!important` here to be able to override the default hidden behavior on the sphinx rendered scikit-learn.org. See: https://github.com/scikit-learn/scikit-learn/issues/21755 */display: inline-block !important;position: relative;}#sk-container-id-3 div.sk-text-repr-fallback {display: none;}</style><div id=\"sk-container-id-3\" class=\"sk-top-container\"><div class=\"sk-text-repr-fallback\"><pre>LabelEncoder()</pre><b>In a Jupyter environment, please rerun this cell to show the HTML representation or trust the notebook. <br />On GitHub, the HTML representation is unable to render, please try loading this page with nbviewer.org.</b></div><div class=\"sk-container\" hidden><div class=\"sk-item\"><div class=\"sk-estimator sk-toggleable\"><input class=\"sk-toggleable__control sk-hidden--visually\" id=\"sk-estimator-id-3\" type=\"checkbox\" checked><label for=\"sk-estimator-id-3\" class=\"sk-toggleable__label sk-toggleable__label-arrow\">LabelEncoder</label><div class=\"sk-toggleable__content\"><pre>LabelEncoder()</pre></div></div></div></div></div>"
            ]
          },
          "metadata": {},
          "execution_count": 62
        }
      ],
      "source": [
        "from sklearn.preprocessing import LabelEncoder\n",
        "\n",
        "# Membuat objek LabelEncoder\n",
        "label_encoder = LabelEncoder()\n",
        "label_encoder"
      ],
      "id": "8DQ_PCdwtvWB"
    },
    {
      "cell_type": "markdown",
      "metadata": {
        "id": "tDSu3J_cUf_z"
      },
      "source": [
        "PREPROCESSING DATA"
      ],
      "id": "tDSu3J_cUf_z"
    },
    {
      "cell_type": "code",
      "execution_count": null,
      "metadata": {
        "id": "BfJ9qLNDvd9H",
        "colab": {
          "base_uri": "https://localhost:8080/"
        },
        "outputId": "2b251b6a-bc36-4ac1-bd35-6d33563c69e4"
      },
      "outputs": [
        {
          "output_type": "stream",
          "name": "stdout",
          "text": [
            "NO                                        0\n",
            "Nama Siswa                                0\n",
            "NISN IJAZAH                               3\n",
            "Nomor Induk Kependudukan\\n (NIK) Siswa    0\n",
            "Jenis\\nKelamin                            0\n",
            "Tempat Tanggal Lahir                      1\n",
            "Asal Sekolah                              0\n",
            "Rata-rata nilai IPA                       0\n",
            "Rata-rata nilai IPS                       0\n",
            "Rata-rata nilai AGAMA                     0\n",
            " Kelas                                    0\n",
            "dtype: int64\n"
          ]
        }
      ],
      "source": [
        "jumlah_missing = data.isnull().sum()\n",
        "print(jumlah_missing)"
      ],
      "id": "BfJ9qLNDvd9H"
    },
    {
      "cell_type": "code",
      "execution_count": null,
      "metadata": {
        "id": "nGOCUPu2v4yO",
        "colab": {
          "base_uri": "https://localhost:8080/"
        },
        "outputId": "87c25950-fa2a-42a4-cc9e-15ed509b40e7"
      },
      "outputs": [
        {
          "output_type": "stream",
          "name": "stdout",
          "text": [
            "\n",
            "Kolom yang dihapus:\n",
            "['Nama Siswa', 'NISN IJAZAH', 'Nomor Induk Kependudukan\\n (NIK) Siswa', 'Jenis\\nKelamin', 'Tempat Tanggal Lahir', 'Asal Sekolah']\n",
            "\n",
            "Kolom yang digunakan:\n",
            "['NO', 'Rata-rata nilai IPA', 'Rata-rata nilai IPS', 'Rata-rata nilai AGAMA', ' Kelas']\n"
          ]
        }
      ],
      "source": [
        "kolom_yang_dihapus = ['Nama Siswa', 'NISN IJAZAH', 'Nomor Induk Kependudukan\\n (NIK) Siswa', 'Jenis\\nKelamin', 'Tempat Tanggal Lahir', 'Asal Sekolah']\n",
        "df = data.drop(columns=kolom_yang_dihapus)\n",
        "\n",
        "print(\"\\nKolom yang dihapus:\")\n",
        "print(kolom_yang_dihapus)\n",
        "print(\"\\nKolom yang digunakan:\")\n",
        "print(df.columns.tolist())"
      ],
      "id": "nGOCUPu2v4yO"
    },
    {
      "cell_type": "code",
      "execution_count": null,
      "metadata": {
        "id": "sN0Qs9oRzbe7",
        "colab": {
          "base_uri": "https://localhost:8080/"
        },
        "outputId": "adb9b2e8-6dc2-4bbe-bead-9ce5761cc391"
      },
      "outputs": [
        {
          "output_type": "stream",
          "name": "stdout",
          "text": [
            "\n",
            "DataFrame yang digunakan:\n",
            "      NO  Rata-rata nilai IPA  Rata-rata nilai IPS  Rata-rata nilai AGAMA  \\\n",
            "0      1                70.25                70.75                  74.00   \n",
            "1      2                69.25                71.25                  78.00   \n",
            "2      3                71.50                66.25                  92.00   \n",
            "3      4                67.25                72.75                  69.00   \n",
            "4      5                67.00                70.75                  69.75   \n",
            "..   ...                  ...                  ...                    ...   \n",
            "454  455                90.25                77.25                  77.75   \n",
            "455  456                88.75                77.25                  76.50   \n",
            "456  457                95.50                80.25                  74.50   \n",
            "457  458                91.50                75.75                  74.25   \n",
            "458  459                88.25                76.00                  75.25   \n",
            "\n",
            "        Kelas  \n",
            "0    X.AGAMA.  \n",
            "1    X.AGAMA.  \n",
            "2    X.AGAMA.  \n",
            "3    X.AGAMA.  \n",
            "4    X.AGAMA.  \n",
            "..        ...  \n",
            "454   X MIPA   \n",
            "455   X MIPA   \n",
            "456   X MIPA   \n",
            "457   X MIPA   \n",
            "458   X MIPA   \n",
            "\n",
            "[459 rows x 5 columns]\n"
          ]
        }
      ],
      "source": [
        "print(\"\\nDataFrame yang digunakan:\")\n",
        "print(df)"
      ],
      "id": "sN0Qs9oRzbe7"
    },
    {
      "cell_type": "code",
      "execution_count": null,
      "metadata": {
        "id": "Owzq735h414_",
        "colab": {
          "base_uri": "https://localhost:8080/"
        },
        "outputId": "11e43c6e-2173-42ac-bc7e-cbaf36d21649"
      },
      "outputs": [
        {
          "output_type": "stream",
          "name": "stdout",
          "text": [
            "      NO  Rata-rata nilai IPA  Rata-rata nilai IPS  Rata-rata nilai AGAMA  \\\n",
            "0      1                70.25                70.75                  74.00   \n",
            "1      2                69.25                71.25                  78.00   \n",
            "2      3                71.50                66.25                  92.00   \n",
            "3      4                67.25                72.75                  69.00   \n",
            "4      5                67.00                70.75                  69.75   \n",
            "..   ...                  ...                  ...                    ...   \n",
            "454  455                90.25                77.25                  77.75   \n",
            "455  456                88.75                77.25                  76.50   \n",
            "456  457                95.50                80.25                  74.50   \n",
            "457  458                91.50                75.75                  74.25   \n",
            "458  459                88.25                76.00                  75.25   \n",
            "\n",
            "        Kelas  \n",
            "0    X.AGAMA.  \n",
            "1    X.AGAMA.  \n",
            "2    X.AGAMA.  \n",
            "3    X.AGAMA.  \n",
            "4    X.AGAMA.  \n",
            "..        ...  \n",
            "454   X MIPA   \n",
            "455   X MIPA   \n",
            "456   X MIPA   \n",
            "457   X MIPA   \n",
            "458   X MIPA   \n",
            "\n",
            "[459 rows x 5 columns]\n"
          ]
        }
      ],
      "source": [
        "#rename \" kelas\" menjadi \"kelas\"\n",
        "df.rename(columns={' Kelas': 'Kelas'}, inplace=True)\n",
        "print(df)"
      ],
      "id": "Owzq735h414_"
    },
    {
      "cell_type": "code",
      "source": [
        "#sesuaikan nama pada kolom kelas\n",
        "df['Kelas'] = df['Kelas'].str.replace('X', '', regex=True).str.replace(' ', '', regex=True).str.replace('.', '', regex=True)\n",
        "print(df)"
      ],
      "metadata": {
        "id": "a8CiqA7RBjO6",
        "colab": {
          "base_uri": "https://localhost:8080/"
        },
        "outputId": "50b6ae04-b6f1-4cdd-bddf-dfa2199d9dd4"
      },
      "id": "a8CiqA7RBjO6",
      "execution_count": null,
      "outputs": [
        {
          "output_type": "stream",
          "name": "stdout",
          "text": [
            "      NO  Rata-rata nilai IPA  Rata-rata nilai IPS  Rata-rata nilai AGAMA  \\\n",
            "0      1                70.25                70.75                  74.00   \n",
            "1      2                69.25                71.25                  78.00   \n",
            "2      3                71.50                66.25                  92.00   \n",
            "3      4                67.25                72.75                  69.00   \n",
            "4      5                67.00                70.75                  69.75   \n",
            "..   ...                  ...                  ...                    ...   \n",
            "454  455                90.25                77.25                  77.75   \n",
            "455  456                88.75                77.25                  76.50   \n",
            "456  457                95.50                80.25                  74.50   \n",
            "457  458                91.50                75.75                  74.25   \n",
            "458  459                88.25                76.00                  75.25   \n",
            "\n",
            "     Kelas  \n",
            "0    AGAMA  \n",
            "1    AGAMA  \n",
            "2    AGAMA  \n",
            "3    AGAMA  \n",
            "4    AGAMA  \n",
            "..     ...  \n",
            "454   MIPA  \n",
            "455   MIPA  \n",
            "456   MIPA  \n",
            "457   MIPA  \n",
            "458   MIPA  \n",
            "\n",
            "[459 rows x 5 columns]\n"
          ]
        }
      ]
    },
    {
      "cell_type": "code",
      "execution_count": null,
      "metadata": {
        "id": "fAgs0k1zAwIb",
        "colab": {
          "base_uri": "https://localhost:8080/"
        },
        "outputId": "acf121ad-d8ee-4ea2-ba0d-4e3ff63cacdf"
      },
      "outputs": [
        {
          "output_type": "stream",
          "name": "stdout",
          "text": [
            "NO                         int64\n",
            "Rata-rata nilai IPA      float64\n",
            "Rata-rata nilai IPS      float64\n",
            "Rata-rata nilai AGAMA    float64\n",
            "Kelas                     object\n",
            "dtype: object\n"
          ]
        }
      ],
      "source": [
        "print(df.dtypes)"
      ],
      "id": "fAgs0k1zAwIb"
    },
    {
      "cell_type": "code",
      "execution_count": null,
      "metadata": {
        "id": "9aBP7bQmsXnq",
        "colab": {
          "base_uri": "https://localhost:8080/"
        },
        "outputId": "72757300-63ac-4c8f-d100-59baa050fa11"
      },
      "outputs": [
        {
          "output_type": "stream",
          "name": "stdout",
          "text": [
            "Nilai X:\n",
            "      NO  Rata-rata nilai IPA  Rata-rata nilai IPS  Rata-rata nilai AGAMA\n",
            "0      1                70.25                70.75                  74.00\n",
            "1      2                69.25                71.25                  78.00\n",
            "2      3                71.50                66.25                  92.00\n",
            "3      4                67.25                72.75                  69.00\n",
            "4      5                67.00                70.75                  69.75\n",
            "..   ...                  ...                  ...                    ...\n",
            "454  455                90.25                77.25                  77.75\n",
            "455  456                88.75                77.25                  76.50\n",
            "456  457                95.50                80.25                  74.50\n",
            "457  458                91.50                75.75                  74.25\n",
            "458  459                88.25                76.00                  75.25\n",
            "\n",
            "[459 rows x 4 columns]\n",
            "\n",
            "Nilai y:\n",
            "0      AGAMA\n",
            "1      AGAMA\n",
            "2      AGAMA\n",
            "3      AGAMA\n",
            "4      AGAMA\n",
            "       ...  \n",
            "454     MIPA\n",
            "455     MIPA\n",
            "456     MIPA\n",
            "457     MIPA\n",
            "458     MIPA\n",
            "Name: Kelas, Length: 459, dtype: object\n"
          ]
        }
      ],
      "source": [
        "X = df.drop(['Kelas'], axis = 1)\n",
        "y = df['Kelas']\n",
        "\n",
        "print(\"Nilai X:\")\n",
        "print(X)\n",
        "print(\"\\nNilai y:\")\n",
        "print(y)"
      ],
      "id": "9aBP7bQmsXnq"
    },
    {
      "cell_type": "markdown",
      "metadata": {
        "id": "ZsH37WKpRPAf"
      },
      "source": [
        "MEMBAGI DATASET KE DATA TRAINING DAN TESTING"
      ],
      "id": "ZsH37WKpRPAf"
    },
    {
      "cell_type": "code",
      "execution_count": null,
      "metadata": {
        "id": "5aaad453",
        "colab": {
          "base_uri": "https://localhost:8080/"
        },
        "outputId": "d4bf2fee-dcbc-4120-99c1-c261c7e91e58"
      },
      "outputs": [
        {
          "output_type": "stream",
          "name": "stdout",
          "text": [
            "X_train shape: (321, 4)\n",
            "X_test shape: (138, 4)\n",
            "y_train shape: (321,)\n",
            "y_test shape: (138,)\n"
          ]
        }
      ],
      "source": [
        "from sklearn.model_selection import train_test_split #to split data\n",
        "\n",
        "X_train, X_test, y_train, y_test = train_test_split(\n",
        "    X, y, test_size=0.30, random_state=42)\n",
        "\n",
        "print(\"X_train shape:\", X_train.shape)\n",
        "print(\"X_test shape:\", X_test.shape)\n",
        "print(\"y_train shape:\", y_train.shape)\n",
        "print(\"y_test shape:\", y_test.shape)"
      ],
      "id": "5aaad453"
    },
    {
      "cell_type": "code",
      "execution_count": null,
      "metadata": {
        "id": "i8swQJ5lfVnA",
        "colab": {
          "base_uri": "https://localhost:8080/"
        },
        "outputId": "e4b67601-0fd7-47bd-b07f-131d4c330aac"
      },
      "outputs": [
        {
          "output_type": "stream",
          "name": "stdout",
          "text": [
            "Index(['NO', 'Rata-rata nilai IPA', 'Rata-rata nilai IPS',\n",
            "       'Rata-rata nilai AGAMA', 'Kelas'],\n",
            "      dtype='object')\n"
          ]
        }
      ],
      "source": [
        "column_names = df.columns\n",
        "\n",
        "print(column_names)"
      ],
      "id": "i8swQJ5lfVnA"
    },
    {
      "cell_type": "markdown",
      "metadata": {
        "id": "Y-DU8F4mbySf"
      },
      "source": [
        "SCALING DATA"
      ],
      "id": "Y-DU8F4mbySf"
    },
    {
      "cell_type": "code",
      "execution_count": null,
      "metadata": {
        "id": "W_BOqVTrYSVG"
      },
      "outputs": [],
      "source": [
        "from sklearn.preprocessing import StandardScaler\n",
        "import numpy as np\n",
        "\n",
        "sc = StandardScaler()\n",
        "X_train_scaled = sc.fit_transform(X_train)\n",
        "X_test_scaled = sc.transform(X_test)"
      ],
      "id": "W_BOqVTrYSVG"
    },
    {
      "cell_type": "code",
      "execution_count": null,
      "metadata": {
        "id": "9r1RjoNubkUU",
        "colab": {
          "base_uri": "https://localhost:8080/"
        },
        "outputId": "a3670eca-b83f-492e-c935-94b8f279f8cf"
      },
      "outputs": [
        {
          "output_type": "stream",
          "name": "stdout",
          "text": [
            "[[-8.71374444e-01 -3.70384318e-01 -2.06274446e-01  1.97567070e+00]\n",
            " [-1.61979756e+00 -1.52416783e+00 -1.14423421e+00  2.52674327e-01]\n",
            " [-2.74228341e-01 -7.72866939e-01  5.55817864e-01 -8.32175242e-01]\n",
            " [ 1.62867724e+00  1.10538529e+00 -5.97182328e-02  6.35562410e-01]\n",
            " [-6.32516003e-01 -4.77713017e-01 -1.58390285e+00 -3.21657798e-01]\n",
            " [-6.72176922e-02 -5.58209541e-01  1.61102260e+00 -1.31078535e+00]\n",
            " [ 1.36593296e+00  1.32004269e+00 -1.20285670e+00 -9.83064160e-02]\n",
            " [ 4.98080619e-01 -7.72866939e-01  1.37653266e+00 -7.68360562e-01]\n",
            " [-9.11035363e-02 -4.77713017e-01  9.07552777e-01 -8.64082582e-01]\n",
            " [-1.26150990e+00 -6.92370415e-01  5.75267380e-02  1.33752390e+00]\n",
            " [ 1.72422062e+00  1.42737139e+00 -2.06274446e-01  3.16489008e-01]\n",
            " [ 8.64330229e-01  2.73587875e-01 -2.64896932e-01 -1.11934130e+00]\n",
            " [-1.23762405e+00 -5.31377366e-01  7.90307806e-01  8.58913792e-01]\n",
            " [ 7.84710748e-01  9.44392243e-01 -9.09744272e-01  6.67469750e-01]\n",
            " [ 9.20212686e-02  6.22406146e-01  1.45460466e-01 -1.02361928e+00]\n",
            " [ 1.45351438e+00  1.40053921e+00  4.67884136e-01  2.52674327e-01]\n",
            " [-1.86646913e-01 -3.43552143e-01  8.19619049e-01 -1.75748811e+00]\n",
            " [ 1.15907113e-01  2.73587875e-01  1.25928769e+00 -6.72638541e-01]\n",
            " [ 1.69237283e+00  1.02488877e+00 -1.09574739e-03  2.84581667e-01]\n",
            " [-1.85865600e+00 -7.46034764e-01 -7.63188058e-01 -6.63990757e-02]\n",
            " [-1.30131964e+00 -5.85041716e-01  1.45460466e-01  1.36943124e+00]\n",
            " [ 2.27374385e-01 -8.26531288e-01  1.66964509e+00 -3.21657798e-01]\n",
            " [ 1.77995425e+00  1.53470009e+00 -1.76963204e-01 -3.44917354e-02]\n",
            " [-1.54814003e+00 -4.50880842e-01  5.75267380e-02  1.30561656e+00]\n",
            " [-2.02570809e-01 -3.43552143e-01  1.22997645e+00 -1.11934130e+00]\n",
            " [ 5.69738151e-01 -9.60692162e-01  1.25928769e+00 -5.76916520e-01]\n",
            " [-1.28539574e+00 -9.33859987e-01  4.38572893e-01  1.17798719e+00]\n",
            " [-1.20577626e+00 -7.52303964e-02  8.19619049e-01  1.62468996e+00]\n",
            " [-8.55450548e-01 -3.43552143e-01  1.74771709e-01  1.97567070e+00]\n",
            " [-1.78699847e+00 -3.70384318e-01 -1.05630049e+00  5.71747730e-01]\n",
            " [-1.42074886e+00 -6.38706065e-01  1.05410899e+00  2.07139272e+00]\n",
            " [-1.94460039e-02 -8.53363463e-01  1.49377763e+00 -1.75748811e+00]\n",
            " [ 1.74810646e+00  9.71224417e-01  2.82154953e-02  4.12211028e-01]\n",
            " [ 4.82156723e-01 -4.24048668e-01  2.02138000e+00 -4.17379819e-01]\n",
            " [ 1.15892231e+00  1.37370704e+00 -1.32010167e+00 -5.76916520e-01]\n",
            " [ 6.97129320e-01  1.32004269e+00 -1.37872416e+00 -2.58439516e-03]\n",
            " [ 1.38981880e+00  1.37370704e+00 -1.26147918e+00 -5.45009180e-01]\n",
            " [ 1.23869061e-01 -5.31377366e-01  9.07552777e-01 -3.53565138e-01]\n",
            " [-1.24558600e+00 -1.12168521e+00  2.82154953e-02  1.27370922e+00]\n",
            " [ 7.13053216e-01  3.27252224e-01 -1.37872416e+00  6.67469750e-01]\n",
            " [ 1.54905776e+00  1.37370704e+00  3.50639165e-01  2.84581667e-01]\n",
            " [ 1.23854179e+00  1.56153226e+00 -1.49596913e+00 -5.13101839e-01]\n",
            " [-5.21048731e-01 -1.28894746e-01  5.26506621e-01 -2.89750458e-01]\n",
            " [-1.22966211e+00 -1.06802086e+00  9.36864019e-01  6.35562410e-01]\n",
            " [ 3.22917762e-01 -1.84615393e+00  1.37653266e+00 -2.89750458e-01]\n",
            " [ 1.42166659e+00  1.05172094e+00 -1.76963204e-01 -3.44917354e-02]\n",
            " [-1.25354795e+00 -8.26531288e-01  5.85129107e-01  7.95099112e-01]\n",
            " [ 2.83256843e-02 -9.33859987e-01  1.31791017e+00 -9.91711943e-01]\n",
            " [ 1.51720997e+00  9.44392243e-01 -2.35585689e-01  4.44118369e-01]\n",
            " [-1.27743379e+00 -1.14851738e+00 -3.04069901e-02  1.01845049e+00]\n",
            " [-7.43983276e-01 -9.33859987e-01 -7.63188058e-01 -3.21657798e-01]\n",
            " [-1.11819483e+00 -1.28894746e-01  3.21327922e-01  1.62468996e+00]\n",
            " [ 1.58886750e+00  1.45420356e+00 -1.18340718e-01  2.20766987e-01]\n",
            " [ 1.58090555e+00  1.23954616e+00 -1.47651961e-01  2.52674327e-01]\n",
            " [-1.59591172e+00 -7.72866939e-01 -8.21810543e-01  2.20766987e-01]\n",
            " [-1.94608861e-01 -7.46034764e-01  1.46446639e+00 -1.34269269e+00]\n",
            " [ 6.73243476e-01  1.15904964e+00  3.21327922e-01  1.01845049e+00]\n",
            " [ 1.33408516e+00  1.80302183e+00 -1.29079043e+00 -6.63990757e-02]\n",
            " [-7.67869120e-01  3.20983025e-02  7.90307806e-01 -4.17379819e-01]\n",
            " [-1.77107457e+00 -3.70384318e-01 -4.70075631e-01  6.12302854e-02]\n",
            " [ 1.35000906e+00  2.07134358e+00 -6.16631844e-01 -4.17379819e-01]\n",
            " [-1.73922678e+00 -6.38706065e-01 -1.20285670e+00 -1.24697067e+00]\n",
            " [-4.81238990e-01 -4.77713017e-01  8.68379808e-02 -6.72638541e-01]\n",
            " [ 3.46803606e-01 -1.76565740e+00  1.81620130e+00 -1.05552662e+00]\n",
            " [ 9.75797501e-01  1.77618966e+00 -7.92499301e-01 -6.08823860e-01]\n",
            " [-1.70737899e+00 -9.60692162e-01 -7.92499301e-01 -1.62121096e-01]\n",
            " [ 1.08726477e+00  1.21271399e+00 -1.58390285e+00 -6.72638541e-01]\n",
            " [ 5.61776203e-01 -1.20218173e+00  1.40584390e+00 -7.36453221e-01]\n",
            " [-1.41278691e+00 -7.99699114e-01 -1.18340718e-01  6.99377091e-01]\n",
            " [-3.22000030e-01 -4.24048668e-01  5.26506621e-01 -6.40731201e-01]\n",
            " [ 1.31019932e+00  1.80302183e+00 -1.64252534e+00 -4.81194499e-01]\n",
            " [ 1.12707451e+00  1.29321051e+00 -1.75977031e+00 -2.89750458e-01]\n",
            " [-1.14208068e+00 -4.50880842e-01  5.75267380e-02  1.97567070e+00]\n",
            " [-9.58955873e-01 -7.99699114e-01 -3.04069901e-02  2.45428081e+00]\n",
            " [ 1.24650373e+00  1.23954616e+00 -1.46665788e+00  5.07933049e-01]\n",
            " [-1.65960730e+00 -4.24048668e-01 -6.75254330e-01  7.95099112e-01]\n",
            " [-3.06076133e-01 -1.17534956e+00  1.40584390e+00 -4.17379819e-01]\n",
            " [-2.34418601e-01 -7.52303964e-02  1.64033384e+00 -7.68360562e-01]\n",
            " [ 1.56498166e+00  1.23954616e+00 -1.76963204e-01  3.16489008e-01]\n",
            " [-1.52425418e+00 -1.06802086e+00  3.79950408e-01  2.10330006e+00]\n",
            " [-4.17543406e-01  5.89304772e-02  8.68379808e-02 -8.32175242e-01]\n",
            " [ 1.67644893e+00  1.80302183e+00 -2.64896932e-01  2.20766987e-01]\n",
            " [ 1.71625867e+00  1.74935748e+00 -2.35585689e-01  5.39840389e-01]\n",
            " [ 1.01560724e+00  1.21271399e+00 -2.31668392e+00 -1.30213756e-01]\n",
            " [ 2.75146074e-01 -7.99699114e-01  1.25928769e+00 -7.04545881e-01]\n",
            " [ 5.06042567e-01 -5.85041716e-01  1.20066520e+00 -5.76916520e-01]\n",
            " [-1.68349314e+00 -4.77713017e-01 -9.39055514e-01  1.56087528e+00]\n",
            " [ 5.21966463e-01 -1.36317478e+00  1.46446639e+00 -8.00267902e-01]\n",
            " [-1.49240639e+00 -1.33634261e+00  4.38572893e-01  1.91185602e+00]\n",
            " [-1.05449925e+00 -5.85041716e-01 -2.64896932e-01  1.94376336e+00]\n",
            " [ 1.43759049e+00  9.44392243e-01  2.82154953e-02  5.39840389e-01]\n",
            " [-6.08630159e-01 -7.46034764e-01  2.62705437e-01 -7.04545881e-01]\n",
            " [ 1.75606841e+00  1.40053921e+00 -1.09574739e-03  4.12211028e-01]\n",
            " [-1.40482496e+00 -7.99699114e-01  1.74771709e-01  6.03655070e-01]\n",
            " [-6.24554055e-01 -7.19202589e-01 -2.06274446e-01 -3.53565138e-01]\n",
            " [ 4.50308931e-01 -7.46034764e-01  1.14204272e+00 -2.89750458e-01]\n",
            " [-1.66756925e+00 -1.20218173e+00 -1.34941291e+00  1.01845049e+00]\n",
            " [-1.72330288e+00 -6.38706065e-01 -7.92499301e-01 -2.45944960e+00]\n",
            " [-1.33316743e+00 -1.06802086e+00 -2.94208175e-01  1.27370922e+00]\n",
            " [-3.29961978e-01 -3.16719969e-01  3.50639165e-01 -4.81194499e-01]\n",
            " [ 1.71640749e-01  2.73587875e-01  1.49377763e+00 -3.21657798e-01]\n",
            " [-1.61183561e+00 -5.85041716e-01 -1.29079043e+00 -3.85472478e-01]\n",
            " [-1.18985237e+00 -1.12168521e+00  5.55817864e-01  9.54635813e-01]\n",
            " [ 1.35797101e+00  1.72252531e+00 -7.04565573e-01  9.31376256e-02]\n",
            " [-8.15640808e-01 -2.36223445e-01 -8.90294755e-02  2.03948538e+00]\n",
            " [ 1.32612322e+00  1.34687486e+00 -2.14081647e+00  5.39840389e-01]\n",
            " [ 5.85662047e-01 -1.09485304e+00  9.66175262e-01 -8.95989923e-01]\n",
            " [-1.11023289e+00 -4.24048668e-01 -5.97182328e-02  2.10330006e+00]\n",
            " [ 1.07945165e-01 -9.60692162e-01  7.31685320e-01  3.16489008e-01]\n",
            " [-9.35070029e-01 -6.92370415e-01  3.50639165e-01  1.17798719e+00]\n",
            " [-9.27108081e-01 -8.80195638e-01 -1.47651961e-01  2.07139272e+00]\n",
            " [ 4.43984019e-03 -2.36223445e-01  1.40584390e+00 -1.62985875e+00]\n",
            " [ 3.62876324e-02 -2.63055619e-01  1.84551254e+00 -5.76916520e-01]\n",
            " [-1.03061341e+00 -2.15660470e-02  3.79950408e-01  1.84804134e+00]\n",
            " [ 8.96178021e-01  1.39427001e-01  3.79950408e-01 -5.76916520e-01]\n",
            " [-1.81884626e+00 -8.26531288e-01 -7.04565573e-01  1.75231932e+00]\n",
            " [-1.50036834e+00 -1.14851738e+00  4.09261651e-01  1.14607985e+00]\n",
            " [-4.89200938e-01 -8.53363463e-01 -1.17354546e+00 -6.40731201e-01]\n",
            " [-8.07678860e-01 -6.65538240e-01 -1.18340718e-01  2.13520740e+00]\n",
            " [ 1.29427542e+00  1.40053921e+00 -1.73045907e+00 -8.00267902e-01]\n",
            " [ 4.42346983e-01 -5.85041716e-01  1.72826757e+00 -1.43841471e+00]\n",
            " [-1.73126483e+00 -6.11873891e-01 -2.06274446e-01  1.27370922e+00]\n",
            " [ 1.52517192e+00  1.15904964e+00 -8.90294755e-02  3.48396348e-01]\n",
            " [-1.35705328e+00 -6.38706065e-01  8.68379808e-02  1.78422666e+00]\n",
            " [ 1.39778075e+00  1.37370704e+00 -8.90294755e-02 -9.83064160e-02]\n",
            " [-1.83477016e+00 -1.06802086e+00 -5.28698116e-01 -7.04545881e-01]\n",
            " [-1.71534094e+00 -1.55100001e+00 -9.39055514e-01  1.11417251e+00]\n",
            " [ 4.18461138e-01 -1.20218173e+00  1.22997645e+00 -5.76916520e-01]\n",
            " [-1.38093912e+00 -8.53363463e-01  8.68379808e-02  1.49706060e+00]\n",
            " [-9.82841717e-01 -7.99699114e-01  3.50639165e-01  1.46515326e+00]\n",
            " [ 4.58270879e-01 -7.19202589e-01  1.52308887e+00 -3.53565138e-01]\n",
            " [ 8.32482437e-01  4.07748748e-01 -5.87320602e-01 -8.32175242e-01]\n",
            " [-1.62775951e+00 -1.36317478e+00 -1.37872416e+00  2.52674327e-01]\n",
            " [ 9.99832167e-02 -5.85041716e-01  5.85129107e-01 -1.34269269e+00]\n",
            " [ 1.64460114e+00  9.71224417e-01  2.62705437e-01  5.71747730e-01]\n",
            " [-1.65164535e+00 -9.60692162e-01 -6.75254330e-01 -3.53565138e-01]\n",
            " [-1.80292237e+00 -9.87524336e-01 -1.17354546e+00  6.03655070e-01]\n",
            " [ 1.46943828e+00  1.45420356e+00 -5.58009359e-01  1.88859646e-01]]\n"
          ]
        }
      ],
      "source": [
        "print(X_test_scaled)"
      ],
      "id": "9r1RjoNubkUU"
    },
    {
      "cell_type": "code",
      "execution_count": null,
      "metadata": {
        "id": "zp08Tz-8a89O",
        "colab": {
          "base_uri": "https://localhost:8080/"
        },
        "outputId": "2f6f239d-ca96-4cdb-f744-6c4141273e28"
      },
      "outputs": [
        {
          "output_type": "stream",
          "name": "stdout",
          "text": [
            "[[-0.99876561 -0.55820954  0.20408295  2.1352074 ]\n",
            " [ 1.54109581  1.45420356  0.20408295  0.38030369]\n",
            " [ 1.55701971  1.29321051  0.11614922  0.12504497]\n",
            " ...\n",
            " [ 0.91210192  0.78339919 -0.55800936 -0.3216578 ]\n",
            " [ 1.6047914   1.50786791 -0.35283066  0.34839635]\n",
            " [-1.0465373  -0.61187389 -0.47007563  1.84804134]]\n"
          ]
        }
      ],
      "source": [
        "print(X_train_scaled)"
      ],
      "id": "zp08Tz-8a89O"
    },
    {
      "cell_type": "markdown",
      "metadata": {
        "id": "PV5XwF4f3c2j"
      },
      "source": [
        "MEMANGGIL FUNCTION KNN"
      ],
      "id": "PV5XwF4f3c2j"
    },
    {
      "cell_type": "code",
      "execution_count": null,
      "metadata": {
        "id": "423acb1c",
        "colab": {
          "base_uri": "https://localhost:8080/",
          "height": 75
        },
        "outputId": "5be82fd8-0b91-4246-8cea-2aea872d6d34"
      },
      "outputs": [
        {
          "output_type": "execute_result",
          "data": {
            "text/plain": [
              "KNeighborsClassifier(metric='euclidean', n_neighbors=3)"
            ],
            "text/html": [
              "<style>#sk-container-id-4 {color: black;background-color: white;}#sk-container-id-4 pre{padding: 0;}#sk-container-id-4 div.sk-toggleable {background-color: white;}#sk-container-id-4 label.sk-toggleable__label {cursor: pointer;display: block;width: 100%;margin-bottom: 0;padding: 0.3em;box-sizing: border-box;text-align: center;}#sk-container-id-4 label.sk-toggleable__label-arrow:before {content: \"▸\";float: left;margin-right: 0.25em;color: #696969;}#sk-container-id-4 label.sk-toggleable__label-arrow:hover:before {color: black;}#sk-container-id-4 div.sk-estimator:hover label.sk-toggleable__label-arrow:before {color: black;}#sk-container-id-4 div.sk-toggleable__content {max-height: 0;max-width: 0;overflow: hidden;text-align: left;background-color: #f0f8ff;}#sk-container-id-4 div.sk-toggleable__content pre {margin: 0.2em;color: black;border-radius: 0.25em;background-color: #f0f8ff;}#sk-container-id-4 input.sk-toggleable__control:checked~div.sk-toggleable__content {max-height: 200px;max-width: 100%;overflow: auto;}#sk-container-id-4 input.sk-toggleable__control:checked~label.sk-toggleable__label-arrow:before {content: \"▾\";}#sk-container-id-4 div.sk-estimator input.sk-toggleable__control:checked~label.sk-toggleable__label {background-color: #d4ebff;}#sk-container-id-4 div.sk-label input.sk-toggleable__control:checked~label.sk-toggleable__label {background-color: #d4ebff;}#sk-container-id-4 input.sk-hidden--visually {border: 0;clip: rect(1px 1px 1px 1px);clip: rect(1px, 1px, 1px, 1px);height: 1px;margin: -1px;overflow: hidden;padding: 0;position: absolute;width: 1px;}#sk-container-id-4 div.sk-estimator {font-family: monospace;background-color: #f0f8ff;border: 1px dotted black;border-radius: 0.25em;box-sizing: border-box;margin-bottom: 0.5em;}#sk-container-id-4 div.sk-estimator:hover {background-color: #d4ebff;}#sk-container-id-4 div.sk-parallel-item::after {content: \"\";width: 100%;border-bottom: 1px solid gray;flex-grow: 1;}#sk-container-id-4 div.sk-label:hover label.sk-toggleable__label {background-color: #d4ebff;}#sk-container-id-4 div.sk-serial::before {content: \"\";position: absolute;border-left: 1px solid gray;box-sizing: border-box;top: 0;bottom: 0;left: 50%;z-index: 0;}#sk-container-id-4 div.sk-serial {display: flex;flex-direction: column;align-items: center;background-color: white;padding-right: 0.2em;padding-left: 0.2em;position: relative;}#sk-container-id-4 div.sk-item {position: relative;z-index: 1;}#sk-container-id-4 div.sk-parallel {display: flex;align-items: stretch;justify-content: center;background-color: white;position: relative;}#sk-container-id-4 div.sk-item::before, #sk-container-id-4 div.sk-parallel-item::before {content: \"\";position: absolute;border-left: 1px solid gray;box-sizing: border-box;top: 0;bottom: 0;left: 50%;z-index: -1;}#sk-container-id-4 div.sk-parallel-item {display: flex;flex-direction: column;z-index: 1;position: relative;background-color: white;}#sk-container-id-4 div.sk-parallel-item:first-child::after {align-self: flex-end;width: 50%;}#sk-container-id-4 div.sk-parallel-item:last-child::after {align-self: flex-start;width: 50%;}#sk-container-id-4 div.sk-parallel-item:only-child::after {width: 0;}#sk-container-id-4 div.sk-dashed-wrapped {border: 1px dashed gray;margin: 0 0.4em 0.5em 0.4em;box-sizing: border-box;padding-bottom: 0.4em;background-color: white;}#sk-container-id-4 div.sk-label label {font-family: monospace;font-weight: bold;display: inline-block;line-height: 1.2em;}#sk-container-id-4 div.sk-label-container {text-align: center;}#sk-container-id-4 div.sk-container {/* jupyter's `normalize.less` sets `[hidden] { display: none; }` but bootstrap.min.css set `[hidden] { display: none !important; }` so we also need the `!important` here to be able to override the default hidden behavior on the sphinx rendered scikit-learn.org. See: https://github.com/scikit-learn/scikit-learn/issues/21755 */display: inline-block !important;position: relative;}#sk-container-id-4 div.sk-text-repr-fallback {display: none;}</style><div id=\"sk-container-id-4\" class=\"sk-top-container\"><div class=\"sk-text-repr-fallback\"><pre>KNeighborsClassifier(metric=&#x27;euclidean&#x27;, n_neighbors=3)</pre><b>In a Jupyter environment, please rerun this cell to show the HTML representation or trust the notebook. <br />On GitHub, the HTML representation is unable to render, please try loading this page with nbviewer.org.</b></div><div class=\"sk-container\" hidden><div class=\"sk-item\"><div class=\"sk-estimator sk-toggleable\"><input class=\"sk-toggleable__control sk-hidden--visually\" id=\"sk-estimator-id-4\" type=\"checkbox\" checked><label for=\"sk-estimator-id-4\" class=\"sk-toggleable__label sk-toggleable__label-arrow\">KNeighborsClassifier</label><div class=\"sk-toggleable__content\"><pre>KNeighborsClassifier(metric=&#x27;euclidean&#x27;, n_neighbors=3)</pre></div></div></div></div></div>"
            ]
          },
          "metadata": {},
          "execution_count": 75
        }
      ],
      "source": [
        "from sklearn.neighbors import KNeighborsClassifier #our lovely classifier\n",
        "#create a k-NN instance\n",
        "classifier = KNeighborsClassifier(n_neighbors=3, metric='euclidean', p=2)\n",
        "classifier.fit(X_train_scaled, y_train)"
      ],
      "id": "423acb1c"
    },
    {
      "cell_type": "code",
      "execution_count": null,
      "metadata": {
        "id": "tkhtTeqXk0nk",
        "colab": {
          "base_uri": "https://localhost:8080/"
        },
        "outputId": "d550523d-56bd-4550-a8f8-53cd38a3968d"
      },
      "outputs": [
        {
          "output_type": "stream",
          "name": "stdout",
          "text": [
            "NO                         int64\n",
            "Rata-rata nilai IPA      float64\n",
            "Rata-rata nilai IPS      float64\n",
            "Rata-rata nilai AGAMA    float64\n",
            "dtype: object\n"
          ]
        }
      ],
      "source": [
        "print(X_train.dtypes)"
      ],
      "id": "tkhtTeqXk0nk"
    },
    {
      "cell_type": "code",
      "execution_count": null,
      "metadata": {
        "id": "CegqKNMNk406",
        "colab": {
          "base_uri": "https://localhost:8080/"
        },
        "outputId": "ed835994-8941-4336-c2d6-e06607fbf765"
      },
      "outputs": [
        {
          "output_type": "stream",
          "name": "stdout",
          "text": [
            "object\n"
          ]
        }
      ],
      "source": [
        "print(y_train.dtypes)"
      ],
      "id": "CegqKNMNk406"
    },
    {
      "cell_type": "markdown",
      "metadata": {
        "id": "7fa6c98a"
      },
      "source": [
        "# MENENTUKAN PREDIKSI <a class=\"anchor\" id=\"section_3_2\"></a>"
      ],
      "id": "7fa6c98a"
    },
    {
      "cell_type": "code",
      "execution_count": null,
      "metadata": {
        "id": "cmeJbdq9h9nQ",
        "colab": {
          "base_uri": "https://localhost:8080/"
        },
        "outputId": "9ebaa718-ea77-446b-d3e7-b9afd2107b12"
      },
      "outputs": [
        {
          "output_type": "stream",
          "name": "stdout",
          "text": [
            "['AGAMA' 'AGAMA' 'IPS' 'MIPA' 'IPS' 'IPS' 'MIPA' 'IPS' 'IPS' 'AGAMA'\n",
            " 'MIPA' 'MIPA' 'AGAMA' 'MIPA' 'IPS' 'MIPA' 'IPS' 'IPS' 'MIPA' 'AGAMA'\n",
            " 'AGAMA' 'IPS' 'MIPA' 'AGAMA' 'IPS' 'IPS' 'AGAMA' 'AGAMA' 'AGAMA' 'AGAMA'\n",
            " 'AGAMA' 'IPS' 'MIPA' 'IPS' 'MIPA' 'MIPA' 'MIPA' 'IPS' 'AGAMA' 'MIPA'\n",
            " 'MIPA' 'MIPA' 'IPS' 'AGAMA' 'IPS' 'MIPA' 'AGAMA' 'IPS' 'MIPA' 'AGAMA'\n",
            " 'IPS' 'AGAMA' 'MIPA' 'MIPA' 'AGAMA' 'IPS' 'MIPA' 'MIPA' 'IPS' 'AGAMA'\n",
            " 'MIPA' 'AGAMA' 'IPS' 'IPS' 'MIPA' 'AGAMA' 'MIPA' 'IPS' 'AGAMA' 'IPS'\n",
            " 'MIPA' 'MIPA' 'AGAMA' 'AGAMA' 'MIPA' 'AGAMA' 'IPS' 'IPS' 'MIPA' 'AGAMA'\n",
            " 'IPS' 'MIPA' 'MIPA' 'MIPA' 'IPS' 'IPS' 'AGAMA' 'IPS' 'AGAMA' 'AGAMA'\n",
            " 'MIPA' 'IPS' 'MIPA' 'AGAMA' 'IPS' 'IPS' 'AGAMA' 'AGAMA' 'AGAMA' 'IPS'\n",
            " 'IPS' 'AGAMA' 'AGAMA' 'MIPA' 'AGAMA' 'MIPA' 'IPS' 'AGAMA' 'IPS' 'AGAMA'\n",
            " 'AGAMA' 'IPS' 'IPS' 'AGAMA' 'MIPA' 'AGAMA' 'AGAMA' 'IPS' 'AGAMA' 'MIPA'\n",
            " 'IPS' 'AGAMA' 'MIPA' 'AGAMA' 'MIPA' 'AGAMA' 'AGAMA' 'IPS' 'AGAMA' 'AGAMA'\n",
            " 'IPS' 'MIPA' 'AGAMA' 'IPS' 'MIPA' 'AGAMA' 'AGAMA' 'MIPA']\n"
          ]
        }
      ],
      "source": [
        "predictionsusepredictionsusepredictionspredictions = classifier.predict(X_test_scaled)\n",
        "print(predictions)"
      ],
      "id": "cmeJbdq9h9nQ"
    },
    {
      "cell_type": "code",
      "source": [
        "from sklearn.metrics import classification_report\n",
        "\n",
        "target_names = ['Kelas AGAMA', 'Kelas IPS', 'Kelas MIPA']\n",
        "print(classification_report(y_test, predictions, target_names=target_names, zero_division=0))\n"
      ],
      "metadata": {
        "colab": {
          "base_uri": "https://localhost:8080/"
        },
        "id": "32svQfRzSGZC",
        "outputId": "66fe6223-2dc7-4386-c8e4-9a8506207e4d"
      },
      "id": "32svQfRzSGZC",
      "execution_count": null,
      "outputs": [
        {
          "output_type": "stream",
          "name": "stdout",
          "text": [
            "              precision    recall  f1-score   support\n",
            "\n",
            " Kelas AGAMA       1.00      1.00      1.00        52\n",
            "   Kelas IPS       1.00      1.00      1.00        44\n",
            "  Kelas MIPA       1.00      1.00      1.00        42\n",
            "\n",
            "    accuracy                           1.00       138\n",
            "   macro avg       1.00      1.00      1.00       138\n",
            "weighted avg       1.00      1.00      1.00       138\n",
            "\n"
          ]
        }
      ]
    },
    {
      "cell_type": "code",
      "execution_count": null,
      "metadata": {
        "id": "pqNU83XiEKmk",
        "colab": {
          "base_uri": "https://localhost:8080/"
        },
        "outputId": "9c1fd9a8-c607-4cfc-f0ec-cbe00c64e622"
      },
      "outputs": [
        {
          "output_type": "stream",
          "name": "stdout",
          "text": [
            "[[52  0  0]\n",
            " [ 0 44  0]\n",
            " [ 0  0 42]]\n"
          ]
        }
      ],
      "source": [
        "from sklearn.metrics import confusion_matrix\n",
        "\n",
        "# Mendapatkan confusion matrix\n",
        "cm = confusion_matrix(y_test, predictions)\n",
        "\n",
        "print(cm)"
      ],
      "id": "pqNU83XiEKmk"
    },
    {
      "cell_type": "code",
      "execution_count": null,
      "metadata": {
        "id": "Ptb2R_07Nj4G",
        "colab": {
          "base_uri": "https://localhost:8080/",
          "height": 564
        },
        "outputId": "82858a2b-44ce-43df-c8bc-c7df6d3676b1"
      },
      "outputs": [
        {
          "output_type": "display_data",
          "data": {
            "text/plain": [
              "<Figure size 800x600 with 2 Axes>"
            ],
            "image/png": "[encoded data removed]"
          },
          "metadata": {}
        }
      ],
      "source": [
        "import seaborn as sns\n",
        "import matplotlib.pyplot as plt\n",
        "\n",
        "plt.figure(figsize=(8, 6))\n",
        "sns.heatmap(cm, annot=True, fmt=\"d\", cmap=\"Blues\")\n",
        "plt.title(\"Confusion Matrix\")\n",
        "plt.xlabel(\"Prediction\")\n",
        "plt.ylabel(\"Actual\")\n",
        "plt.show()"
      ],
      "id": "Ptb2R_07Nj4G"
    },
    {
      "cell_type": "code",
      "execution_count": null,
      "metadata": {
        "id": "3LGKnGCiMcf8",
        "colab": {
          "base_uri": "https://localhost:8080/"
        },
        "outputId": "aeb38d1b-1ef4-48f4-97ce-5fb3cfdaf6e0"
      },
      "outputs": [
        {
          "output_type": "stream",
          "name": "stdout",
          "text": [
            "Accuracy: 1.0\n"
          ]
        }
      ],
      "source": [
        "from sklearn.metrics import accuracy_score\n",
        "\n",
        "accuracy = accuracy_score(y_test, predictions)\n",
        "print(\"Accuracy:\", accuracy)"
      ],
      "id": "3LGKnGCiMcf8"
    },
    {
      "cell_type": "code",
      "execution_count": null,
      "metadata": {
        "id": "smu4aa_4Jf0s",
        "colab": {
          "base_uri": "https://localhost:8080/"
        },
        "outputId": "b878b64b-070c-47e4-b4a1-5ad295290d61"
      },
      "outputs": [
        {
          "output_type": "stream",
          "name": "stdout",
          "text": [
            "Precision: 1.0\n"
          ]
        }
      ],
      "source": [
        "from sklearn.metrics import precision_score\n",
        "\n",
        "precision = precision_score(y_test, predictions, average='weighted', zero_division=0)\n",
        "print(\"Precision:\", precision)\n"
      ],
      "id": "smu4aa_4Jf0s"
    },
    {
      "cell_type": "code",
      "execution_count": null,
      "metadata": {
        "id": "7nAUOvgxJm7k",
        "colab": {
          "base_uri": "https://localhost:8080/"
        },
        "outputId": "581a3524-d32a-4387-8a1b-532c4d30598f"
      },
      "outputs": [
        {
          "output_type": "stream",
          "name": "stdout",
          "text": [
            "Recall: 1.0\n"
          ]
        }
      ],
      "source": [
        "from sklearn.metrics import recall_score\n",
        "\n",
        "recall = recall_score(y_test, predictions, average='weighted')\n",
        "print(\"Recall:\", recall)"
      ],
      "id": "7nAUOvgxJm7k"
    },
    {
      "cell_type": "code",
      "execution_count": null,
      "metadata": {
        "id": "7KrLU87RN-Y-",
        "colab": {
          "base_uri": "https://localhost:8080/",
          "height": 493
        },
        "outputId": "b374ea09-fcd3-4d0f-a26c-4df16eb0c529"
      },
      "outputs": [
        {
          "output_type": "display_data",
          "data": {
            "text/plain": [
              "<Figure size 640x480 with 1 Axes>"
            ],
            "image/png": "[encoded data removed]"
          },
          "metadata": {}
        }
      ],
      "source": [
        "metrics = ['Accuracy', 'Precision', 'Recall']\n",
        "scores = [accuracy, precision, recall]\n",
        "\n",
        "plt.bar(metrics, scores)\n",
        "\n",
        "plt.ylim([0, 1])\n",
        "\n",
        "plt.xlabel('Metrics')\n",
        "plt.ylabel('Scores')\n",
        "plt.title('Evaluation\\n')\n",
        "\n",
        "for i, score in enumerate(scores):\n",
        "    plt.text(i, score, f'{score:.2f}', ha='center', va='bottom')\n",
        "\n",
        "plt.show()"
      ],
      "id": "7KrLU87RN-Y-"
    },
    {
      "cell_type": "markdown",
      "metadata": {
        "id": "s5z2aNKBxS-P"
      },
      "source": [
        "EVALUASI DAN VALIDASI"
      ],
      "id": "s5z2aNKBxS-P"
    },
    {
      "cell_type": "code",
      "execution_count": null,
      "metadata": {
        "id": "AwS3rGR1xZMo",
        "colab": {
          "base_uri": "https://localhost:8080/"
        },
        "outputId": "0886f13c-5fe9-45ea-bd2e-a26cb2ecf385"
      },
      "outputs": [
        {
          "output_type": "stream",
          "name": "stdout",
          "text": [
            "Tingkat Akurasi : 100 persen\n"
          ]
        }
      ],
      "source": [
        "from sklearn.metrics import accuracy_score\n",
        "\n",
        "akurasi = accuracy_score(y_test, predictions)\n",
        "print(\"Tingkat Akurasi : %d persen\"%(akurasi*100))"
      ],
      "id": "AwS3rGR1xZMo"
    },
    {
      "cell_type": "code",
      "execution_count": null,
      "metadata": {
        "id": "wD7d6A7vrFeI",
        "colab": {
          "base_uri": "https://localhost:8080/"
        },
        "outputId": "530b0d4b-b8c9-4e39-82c9-f2bd54f59433"
      },
      "outputs": [
        {
          "output_type": "stream",
          "name": "stdout",
          "text": [
            "Distance Matrix:\n",
            "[[0.24509616 0.29142879 0.33445848]\n",
            " [0.66957576 0.71378873 0.8135468 ]\n",
            " [0.33806161 0.42858106 0.44647536]\n",
            " [0.22909265 0.36468122 0.37129409]\n",
            " [0.27220573 0.28241792 0.36192003]\n",
            " [0.35955731 0.4276187  0.43771931]\n",
            " [0.16333213 0.22275773 0.2424617 ]\n",
            " [0.26896384 0.38241853 0.38824146]\n",
            " [0.25198648 0.26234055 0.28370445]\n",
            " [0.27268856 0.31645271 0.31926641]\n",
            " [0.20794189 0.22172112 0.22475168]\n",
            " [0.52695164 0.52833839 0.67647202]\n",
            " [0.42264689 0.43822825 0.5195179 ]\n",
            " [0.49450943 0.62253477 0.65494899]\n",
            " [0.49215096 0.55966204 0.56195948]\n",
            " [0.14120821 0.25444112 0.31053291]\n",
            " [0.50088155 0.51267654 0.51630077]\n",
            " [0.2493655  0.28042299 0.29324669]\n",
            " [0.1533008  0.21838271 0.22854032]\n",
            " [0.37568673 0.42623017 0.45856057]\n",
            " [0.2178491  0.21810612 0.33099863]\n",
            " [0.1545789  0.32519439 0.42690293]\n",
            " [0.25383993 0.25916908 0.3726741 ]\n",
            " [0.2834453  0.29302734 0.42064067]\n",
            " [0.14646245 0.25913382 0.3114678 ]\n",
            " [0.27778047 0.35868996 0.39420949]\n",
            " [0.22417741 0.3179358  0.32721357]\n",
            " [0.45030703 0.53575527 0.57265782]\n",
            " [0.16897674 0.25568994 0.26955   ]\n",
            " [0.25685922 0.41428193 0.56001876]\n",
            " [0.53548927 0.56783599 0.8651971 ]\n",
            " [0.49765353 0.68244841 0.70085612]\n",
            " [0.1299664  0.31394464 0.33607323]\n",
            " [0.4959345  0.50664888 0.50972033]\n",
            " [0.26242022 0.31216606 0.34000558]\n",
            " [0.22156408 0.36471949 0.41225992]\n",
            " [0.28589951 0.33488411 0.3800622 ]\n",
            " [0.22506641 0.30182846 0.35600134]\n",
            " [0.32297729 0.35481585 0.3784225 ]\n",
            " [0.52002778 0.52535491 0.75123786]\n",
            " [0.17310443 0.18583113 0.19283286]\n",
            " [0.27505061 0.28167201 0.28879096]\n",
            " [0.20836834 0.4485965  0.50543363]\n",
            " [0.4905541  0.63721662 0.67283272]\n",
            " [0.19900804 0.35565332 0.52760342]\n",
            " [0.2172178  0.25131691 0.34610298]\n",
            " [0.17661635 0.27707331 0.42070455]\n",
            " [0.17636268 0.26953847 0.29685709]\n",
            " [0.29542846 0.32329301 0.3771454 ]\n",
            " [0.32091667 0.34588003 0.37506495]\n",
            " [0.21714349 0.34744256 0.39045508]\n",
            " [0.36406375 0.39842626 0.43020666]\n",
            " [0.19441293 0.22714919 0.22790863]\n",
            " [0.10813729 0.17723406 0.17829542]\n",
            " [0.2150548  0.24506581 0.26234055]\n",
            " [0.43290558 0.52155011 0.52434557]\n",
            " [0.36417989 0.83958073 1.03914597]\n",
            " [0.24255537 0.29989609 0.30846265]\n",
            " [0.33157893 0.50021024 0.69981009]\n",
            " [0.37557347 0.52195117 0.6555018 ]\n",
            " [0.58892685 0.60895604 0.63068842]\n",
            " [0.69069025 0.74469436 0.82789785]\n",
            " [0.20828048 0.28205934 0.32007409]\n",
            " [0.36792275 0.39887953 0.4510627 ]\n",
            " [0.20467569 0.37329408 0.4511538 ]\n",
            " [0.41547051 0.42168651 0.47690664]\n",
            " [0.18888464 0.28699884 0.43783044]\n",
            " [0.29348852 0.31660638 0.34249964]\n",
            " [0.24684461 0.27634581 0.32729747]\n",
            " [0.23227543 0.33157893 0.35362903]\n",
            " [0.25833788 0.34950756 0.36065839]\n",
            " [0.27826931 0.30859499 0.30984645]\n",
            " [0.26165723 0.28105042 0.30138876]\n",
            " [0.2728523  0.29816613 0.33673532]\n",
            " [0.40159001 0.41859189 0.56089917]\n",
            " [0.37292924 0.45171362 0.5660362 ]\n",
            " [0.51645815 0.55204543 0.57898032]\n",
            " [0.29937028 0.39013104 0.39326475]\n",
            " [0.15938843 0.16078664 0.18106575]\n",
            " [0.43375726 0.45764816 0.62118817]\n",
            " [0.17684049 0.30296172 0.4027331 ]\n",
            " [0.15421811 0.20534891 0.24460134]\n",
            " [0.23855698 0.2713894  0.30769587]\n",
            " [0.48653496 0.53103119 0.57862211]\n",
            " [0.20300904 0.22134113 0.26547987]\n",
            " [0.36716186 0.41277935 0.42305665]\n",
            " [0.57395432 0.60223712 0.6958828 ]\n",
            " [0.24761233 0.31563816 0.35565171]\n",
            " [0.3288056  0.54829642 0.57135595]\n",
            " [0.18481839 0.22247571 0.22813233]\n",
            " [0.30470293 0.30706501 0.35608802]\n",
            " [0.27673641 0.36760061 0.46419407]\n",
            " [0.16332821 0.18623133 0.20849415]\n",
            " [0.20185953 0.20387147 0.21821201]\n",
            " [0.19693212 0.25076692 0.25257805]\n",
            " [0.27177624 0.34001336 0.42290638]\n",
            " [0.50982207 0.68392719 0.76647773]\n",
            " [0.38901115 1.21905765 1.87136688]\n",
            " [0.37407766 0.46366837 0.47120545]\n",
            " [0.18332355 0.40009653 0.41772102]\n",
            " [0.36574269 0.48069054 0.53639122]\n",
            " [0.2825097  0.5333821  0.56190083]\n",
            " [0.31036506 0.31245885 0.45414816]\n",
            " [0.09771251 0.40359811 0.43917926]\n",
            " [0.19971014 0.23601967 0.29307188]\n",
            " [0.66078615 0.70775527 0.79756785]\n",
            " [0.32627816 0.32781495 0.4965851 ]\n",
            " [0.29357476 0.2961454  0.30019399]\n",
            " [0.45987211 0.6102555  0.79733962]\n",
            " [0.3223989  0.37157731 0.43238368]\n",
            " [0.13823601 0.20269876 0.2273396 ]\n",
            " [0.25064349 0.32275391 0.39544163]\n",
            " [0.34921776 0.47510983 0.50876257]\n",
            " [0.27836433 0.29443132 0.37610807]\n",
            " [0.70421789 0.76418119 0.78628771]\n",
            " [0.29278184 0.43560317 0.65269181]\n",
            " [0.3315961  0.37505852 0.40416713]\n",
            " [0.16129267 0.16478782 0.38350078]\n",
            " [0.10901308 0.17841471 0.23033198]\n",
            " [0.16750933 0.43836428 0.45112615]\n",
            " [0.41537621 0.52479392 0.55778914]\n",
            " [0.36572049 0.49596214 0.53766563]\n",
            " [0.1104573  0.14195247 0.19050616]\n",
            " [0.29502466 0.36246124 0.49037894]\n",
            " [0.30525206 0.33075708 0.3382373 ]\n",
            " [0.25481679 0.43728939 0.47780144]\n",
            " [0.63904953 0.80171139 0.87536133]\n",
            " [0.25864796 0.3382058  0.35943422]\n",
            " [0.3161066  0.3468503  0.40019842]\n",
            " [0.23866286 0.38209253 0.43931676]\n",
            " [0.20400096 0.20555314 0.23189517]\n",
            " [0.57969252 0.63948396 0.68970583]\n",
            " [0.63011003 0.71791309 0.85661711]\n",
            " [0.31322407 0.35551135 0.41105435]\n",
            " [0.31121081 0.33454685 0.42802771]\n",
            " [0.34207701 0.34866965 0.38361627]\n",
            " [0.25371963 0.2750358  0.51543706]\n",
            " [0.29791037 0.34161053 0.38543222]]\n"
          ]
        }
      ],
      "source": [
        "distances, indices = classifier.kneighbors(X_test_scaled)\n",
        "print(\"Distance Matrix:\")\n",
        "print(distances)"
      ],
      "id": "wD7d6A7vrFeI"
    },
    {
      "cell_type": "code",
      "execution_count": null,
      "metadata": {
        "id": "e4507ba4",
        "colab": {
          "base_uri": "https://localhost:8080/"
        },
        "outputId": "b620d6af-535f-4166-cb4e-f23d6f3c6c4b"
      },
      "outputs": [
        {
          "output_type": "execute_result",
          "data": {
            "text/plain": [
              "['AGAMA',\n",
              " 'MIPA',\n",
              " 'MIPA',\n",
              " 'AGAMA',\n",
              " 'MIPA',\n",
              " 'MIPA',\n",
              " 'AGAMA',\n",
              " 'MIPA',\n",
              " 'MIPA',\n",
              " 'AGAMA',\n",
              " 'MIPA',\n",
              " 'MIPA',\n",
              " 'AGAMA',\n",
              " 'MIPA',\n",
              " 'MIPA',\n",
              " 'AGAMA',\n",
              " 'MIPA',\n",
              " 'MIPA',\n",
              " 'AGAMA',\n",
              " 'MIPA',\n",
              " 'MIPA',\n",
              " 'AGAMA',\n",
              " 'MIPA',\n",
              " 'MIPA',\n",
              " 'AGAMA',\n",
              " 'MIPA',\n",
              " 'MIPA',\n",
              " 'AGAMA',\n",
              " 'MIPA',\n",
              " 'MIPA',\n",
              " 'AGAMA',\n",
              " 'MIPA',\n",
              " 'MIPA',\n",
              " 'AGAMA',\n",
              " 'MIPA',\n",
              " 'MIPA',\n",
              " 'AGAMA',\n",
              " 'MIPA',\n",
              " 'MIPA',\n",
              " 'AGAMA',\n",
              " 'MIPA',\n",
              " 'MIPA',\n",
              " 'AGAMA',\n",
              " 'MIPA',\n",
              " 'MIPA',\n",
              " 'AGAMA',\n",
              " 'MIPA',\n",
              " 'MIPA',\n",
              " 'AGAMA',\n",
              " 'MIPA',\n",
              " 'MIPA',\n",
              " 'AGAMA',\n",
              " 'MIPA',\n",
              " 'MIPA',\n",
              " 'AGAMA',\n",
              " 'MIPA',\n",
              " 'MIPA',\n",
              " 'AGAMA',\n",
              " 'MIPA',\n",
              " 'MIPA',\n",
              " 'AGAMA',\n",
              " 'MIPA',\n",
              " 'MIPA',\n",
              " 'AGAMA',\n",
              " 'MIPA',\n",
              " 'MIPA',\n",
              " 'AGAMA',\n",
              " 'MIPA',\n",
              " 'MIPA',\n",
              " 'AGAMA',\n",
              " 'MIPA',\n",
              " 'MIPA',\n",
              " 'AGAMA',\n",
              " 'MIPA',\n",
              " 'MIPA',\n",
              " 'AGAMA',\n",
              " 'MIPA',\n",
              " 'MIPA',\n",
              " 'AGAMA',\n",
              " 'MIPA',\n",
              " 'MIPA',\n",
              " 'AGAMA',\n",
              " 'MIPA',\n",
              " 'MIPA',\n",
              " 'AGAMA',\n",
              " 'MIPA',\n",
              " 'MIPA',\n",
              " 'AGAMA',\n",
              " 'MIPA',\n",
              " 'MIPA',\n",
              " 'AGAMA',\n",
              " 'MIPA',\n",
              " 'MIPA',\n",
              " 'AGAMA',\n",
              " 'MIPA',\n",
              " 'MIPA',\n",
              " 'AGAMA',\n",
              " 'MIPA',\n",
              " 'MIPA',\n",
              " 'AGAMA',\n",
              " 'MIPA',\n",
              " 'MIPA',\n",
              " 'AGAMA',\n",
              " 'MIPA',\n",
              " 'MIPA',\n",
              " 'AGAMA',\n",
              " 'MIPA',\n",
              " 'MIPA',\n",
              " 'AGAMA',\n",
              " 'MIPA',\n",
              " 'MIPA',\n",
              " 'AGAMA',\n",
              " 'MIPA',\n",
              " 'MIPA',\n",
              " 'AGAMA',\n",
              " 'MIPA',\n",
              " 'MIPA',\n",
              " 'AGAMA',\n",
              " 'MIPA',\n",
              " 'MIPA',\n",
              " 'AGAMA',\n",
              " 'MIPA',\n",
              " 'MIPA',\n",
              " 'AGAMA',\n",
              " 'MIPA',\n",
              " 'MIPA',\n",
              " 'AGAMA',\n",
              " 'MIPA',\n",
              " 'MIPA',\n",
              " 'AGAMA',\n",
              " 'MIPA',\n",
              " 'MIPA',\n",
              " 'AGAMA',\n",
              " 'MIPA',\n",
              " 'MIPA',\n",
              " 'AGAMA',\n",
              " 'MIPA',\n",
              " 'MIPA',\n",
              " 'AGAMA',\n",
              " 'MIPA',\n",
              " 'MIPA',\n",
              " 'AGAMA',\n",
              " 'MIPA',\n",
              " 'MIPA',\n",
              " 'AGAMA',\n",
              " 'MIPA',\n",
              " 'MIPA',\n",
              " 'AGAMA',\n",
              " 'MIPA',\n",
              " 'MIPA',\n",
              " 'AGAMA',\n",
              " 'MIPA',\n",
              " 'MIPA',\n",
              " 'AGAMA',\n",
              " 'MIPA',\n",
              " 'MIPA',\n",
              " 'AGAMA',\n",
              " 'MIPA',\n",
              " 'MIPA',\n",
              " 'AGAMA',\n",
              " 'MIPA',\n",
              " 'MIPA',\n",
              " 'AGAMA',\n",
              " 'MIPA',\n",
              " 'MIPA',\n",
              " 'AGAMA',\n",
              " 'MIPA',\n",
              " 'MIPA',\n",
              " 'AGAMA',\n",
              " 'MIPA',\n",
              " 'MIPA',\n",
              " 'AGAMA',\n",
              " 'MIPA',\n",
              " 'MIPA',\n",
              " 'AGAMA',\n",
              " 'MIPA',\n",
              " 'MIPA',\n",
              " 'AGAMA',\n",
              " 'MIPA',\n",
              " 'MIPA',\n",
              " 'AGAMA',\n",
              " 'MIPA',\n",
              " 'MIPA',\n",
              " 'AGAMA',\n",
              " 'MIPA',\n",
              " 'MIPA',\n",
              " 'AGAMA',\n",
              " 'MIPA',\n",
              " 'MIPA',\n",
              " 'AGAMA',\n",
              " 'MIPA',\n",
              " 'MIPA',\n",
              " 'AGAMA',\n",
              " 'MIPA',\n",
              " 'MIPA',\n",
              " 'AGAMA',\n",
              " 'MIPA',\n",
              " 'MIPA',\n",
              " 'AGAMA',\n",
              " 'MIPA',\n",
              " 'MIPA',\n",
              " 'AGAMA',\n",
              " 'MIPA',\n",
              " 'MIPA',\n",
              " 'AGAMA',\n",
              " 'MIPA',\n",
              " 'MIPA',\n",
              " 'AGAMA',\n",
              " 'MIPA',\n",
              " 'MIPA',\n",
              " 'AGAMA',\n",
              " 'MIPA',\n",
              " 'MIPA',\n",
              " 'AGAMA',\n",
              " 'MIPA',\n",
              " 'MIPA',\n",
              " 'AGAMA',\n",
              " 'MIPA',\n",
              " 'MIPA',\n",
              " 'AGAMA',\n",
              " 'MIPA',\n",
              " 'MIPA',\n",
              " 'AGAMA',\n",
              " 'MIPA',\n",
              " 'MIPA',\n",
              " 'AGAMA',\n",
              " 'MIPA',\n",
              " 'MIPA',\n",
              " 'AGAMA',\n",
              " 'MIPA',\n",
              " 'MIPA',\n",
              " 'AGAMA',\n",
              " 'MIPA',\n",
              " 'MIPA',\n",
              " 'AGAMA',\n",
              " 'MIPA',\n",
              " 'MIPA',\n",
              " 'AGAMA',\n",
              " 'MIPA',\n",
              " 'MIPA',\n",
              " 'AGAMA',\n",
              " 'MIPA',\n",
              " 'MIPA',\n",
              " 'AGAMA',\n",
              " 'MIPA',\n",
              " 'MIPA',\n",
              " 'AGAMA',\n",
              " 'MIPA',\n",
              " 'MIPA',\n",
              " 'AGAMA',\n",
              " 'MIPA',\n",
              " 'MIPA',\n",
              " 'AGAMA',\n",
              " 'MIPA',\n",
              " 'MIPA',\n",
              " 'AGAMA',\n",
              " 'MIPA',\n",
              " 'MIPA',\n",
              " 'AGAMA',\n",
              " 'MIPA',\n",
              " 'MIPA',\n",
              " 'AGAMA',\n",
              " 'MIPA',\n",
              " 'MIPA',\n",
              " 'AGAMA',\n",
              " 'MIPA',\n",
              " 'MIPA',\n",
              " 'AGAMA',\n",
              " 'MIPA',\n",
              " 'MIPA',\n",
              " 'AGAMA',\n",
              " 'MIPA',\n",
              " 'MIPA',\n",
              " 'AGAMA',\n",
              " 'MIPA',\n",
              " 'MIPA',\n",
              " 'AGAMA',\n",
              " 'MIPA',\n",
              " 'MIPA',\n",
              " 'AGAMA',\n",
              " 'MIPA',\n",
              " 'MIPA',\n",
              " 'AGAMA',\n",
              " 'MIPA',\n",
              " 'MIPA',\n",
              " 'AGAMA',\n",
              " 'MIPA',\n",
              " 'MIPA',\n",
              " 'AGAMA',\n",
              " 'MIPA',\n",
              " 'MIPA',\n",
              " 'AGAMA',\n",
              " 'MIPA',\n",
              " 'MIPA',\n",
              " 'AGAMA',\n",
              " 'MIPA',\n",
              " 'MIPA',\n",
              " 'AGAMA',\n",
              " 'MIPA',\n",
              " 'MIPA',\n",
              " 'AGAMA',\n",
              " 'MIPA',\n",
              " 'MIPA',\n",
              " 'AGAMA',\n",
              " 'MIPA',\n",
              " 'MIPA',\n",
              " 'AGAMA',\n",
              " 'MIPA',\n",
              " 'MIPA',\n",
              " 'AGAMA',\n",
              " 'MIPA',\n",
              " 'MIPA',\n",
              " 'AGAMA',\n",
              " 'MIPA',\n",
              " 'MIPA',\n",
              " 'AGAMA',\n",
              " 'MIPA',\n",
              " 'MIPA',\n",
              " 'AGAMA',\n",
              " 'MIPA',\n",
              " 'MIPA',\n",
              " 'AGAMA',\n",
              " 'MIPA',\n",
              " 'MIPA',\n",
              " 'AGAMA',\n",
              " 'MIPA',\n",
              " 'MIPA',\n",
              " 'AGAMA',\n",
              " 'MIPA',\n",
              " 'MIPA',\n",
              " 'AGAMA',\n",
              " 'MIPA',\n",
              " 'MIPA',\n",
              " 'AGAMA',\n",
              " 'MIPA',\n",
              " 'MIPA',\n",
              " 'AGAMA',\n",
              " 'MIPA',\n",
              " 'MIPA',\n",
              " 'AGAMA',\n",
              " 'MIPA',\n",
              " 'MIPA',\n",
              " 'AGAMA',\n",
              " 'MIPA',\n",
              " 'MIPA',\n",
              " 'AGAMA',\n",
              " 'MIPA',\n",
              " 'MIPA',\n",
              " 'AGAMA',\n",
              " 'MIPA',\n",
              " 'MIPA',\n",
              " 'AGAMA',\n",
              " 'MIPA',\n",
              " 'MIPA',\n",
              " 'AGAMA',\n",
              " 'MIPA',\n",
              " 'MIPA',\n",
              " 'AGAMA',\n",
              " 'MIPA',\n",
              " 'MIPA',\n",
              " 'AGAMA',\n",
              " 'MIPA',\n",
              " 'MIPA',\n",
              " 'AGAMA',\n",
              " 'MIPA',\n",
              " 'MIPA',\n",
              " 'AGAMA',\n",
              " 'MIPA',\n",
              " 'MIPA',\n",
              " 'AGAMA',\n",
              " 'MIPA',\n",
              " 'MIPA',\n",
              " 'AGAMA',\n",
              " 'MIPA',\n",
              " 'MIPA',\n",
              " 'AGAMA',\n",
              " 'MIPA',\n",
              " 'MIPA',\n",
              " 'AGAMA',\n",
              " 'MIPA',\n",
              " 'MIPA',\n",
              " 'AGAMA',\n",
              " 'MIPA',\n",
              " 'MIPA',\n",
              " 'AGAMA',\n",
              " 'MIPA',\n",
              " 'MIPA',\n",
              " 'AGAMA',\n",
              " 'MIPA',\n",
              " 'MIPA',\n",
              " 'AGAMA',\n",
              " 'MIPA',\n",
              " 'MIPA',\n",
              " 'AGAMA',\n",
              " 'MIPA',\n",
              " 'MIPA',\n",
              " 'AGAMA',\n",
              " 'MIPA',\n",
              " 'MIPA',\n",
              " 'AGAMA',\n",
              " 'MIPA',\n",
              " 'MIPA',\n",
              " 'AGAMA',\n",
              " 'MIPA',\n",
              " 'MIPA',\n",
              " 'AGAMA',\n",
              " 'MIPA',\n",
              " 'MIPA',\n",
              " 'AGAMA',\n",
              " 'MIPA',\n",
              " 'MIPA',\n",
              " 'AGAMA',\n",
              " 'MIPA',\n",
              " 'MIPA']"
            ]
          },
          "metadata": {},
          "execution_count": 88
        }
      ],
      "source": [
        "k_nearest_classes = [y_train.iloc[val[1]] for val in zip(*distances.nonzero())]\n",
        "k_nearest_classes"
      ],
      "id": "e4507ba4"
    },
    {
      "cell_type": "code",
      "execution_count": null,
      "metadata": {
        "id": "60c9870b",
        "colab": {
          "base_uri": "https://localhost:8080/"
        },
        "outputId": "c21821e7-0de7-4b4b-baa7-a06e598e9c6c"
      },
      "outputs": [
        {
          "output_type": "execute_result",
          "data": {
            "text/plain": [
              "array([0.24509616, 0.29142879, 0.33445848, 0.66957576, 0.71378873,\n",
              "       0.8135468 , 0.33806161, 0.42858106, 0.44647536, 0.22909265,\n",
              "       0.36468122, 0.37129409, 0.27220573, 0.28241792, 0.36192003,\n",
              "       0.35955731, 0.4276187 , 0.43771931, 0.16333213, 0.22275773,\n",
              "       0.2424617 , 0.26896384, 0.38241853, 0.38824146, 0.25198648,\n",
              "       0.26234055, 0.28370445, 0.27268856, 0.31645271, 0.31926641,\n",
              "       0.20794189, 0.22172112, 0.22475168, 0.52695164, 0.52833839,\n",
              "       0.67647202, 0.42264689, 0.43822825, 0.5195179 , 0.49450943,\n",
              "       0.62253477, 0.65494899, 0.49215096, 0.55966204, 0.56195948,\n",
              "       0.14120821, 0.25444112, 0.31053291, 0.50088155, 0.51267654,\n",
              "       0.51630077, 0.2493655 , 0.28042299, 0.29324669, 0.1533008 ,\n",
              "       0.21838271, 0.22854032, 0.37568673, 0.42623017, 0.45856057,\n",
              "       0.2178491 , 0.21810612, 0.33099863, 0.1545789 , 0.32519439,\n",
              "       0.42690293, 0.25383993, 0.25916908, 0.3726741 , 0.2834453 ,\n",
              "       0.29302734, 0.42064067, 0.14646245, 0.25913382, 0.3114678 ,\n",
              "       0.27778047, 0.35868996, 0.39420949, 0.22417741, 0.3179358 ,\n",
              "       0.32721357, 0.45030703, 0.53575527, 0.57265782, 0.16897674,\n",
              "       0.25568994, 0.26955   , 0.25685922, 0.41428193, 0.56001876,\n",
              "       0.53548927, 0.56783599, 0.8651971 , 0.49765353, 0.68244841,\n",
              "       0.70085612, 0.1299664 , 0.31394464, 0.33607323, 0.4959345 ,\n",
              "       0.50664888, 0.50972033, 0.26242022, 0.31216606, 0.34000558,\n",
              "       0.22156408, 0.36471949, 0.41225992, 0.28589951, 0.33488411,\n",
              "       0.3800622 , 0.22506641, 0.30182846, 0.35600134, 0.32297729,\n",
              "       0.35481585, 0.3784225 , 0.52002778, 0.52535491, 0.75123786,\n",
              "       0.17310443, 0.18583113, 0.19283286, 0.27505061, 0.28167201,\n",
              "       0.28879096, 0.20836834, 0.4485965 , 0.50543363, 0.4905541 ,\n",
              "       0.63721662, 0.67283272, 0.19900804, 0.35565332, 0.52760342,\n",
              "       0.2172178 , 0.25131691, 0.34610298, 0.17661635, 0.27707331,\n",
              "       0.42070455, 0.17636268, 0.26953847, 0.29685709, 0.29542846,\n",
              "       0.32329301, 0.3771454 , 0.32091667, 0.34588003, 0.37506495,\n",
              "       0.21714349, 0.34744256, 0.39045508, 0.36406375, 0.39842626,\n",
              "       0.43020666, 0.19441293, 0.22714919, 0.22790863, 0.10813729,\n",
              "       0.17723406, 0.17829542, 0.2150548 , 0.24506581, 0.26234055,\n",
              "       0.43290558, 0.52155011, 0.52434557, 0.36417989, 0.83958073,\n",
              "       1.03914597, 0.24255537, 0.29989609, 0.30846265, 0.33157893,\n",
              "       0.50021024, 0.69981009, 0.37557347, 0.52195117, 0.6555018 ,\n",
              "       0.58892685, 0.60895604, 0.63068842, 0.69069025, 0.74469436,\n",
              "       0.82789785, 0.20828048, 0.28205934, 0.32007409, 0.36792275,\n",
              "       0.39887953, 0.4510627 , 0.20467569, 0.37329408, 0.4511538 ,\n",
              "       0.41547051, 0.42168651, 0.47690664, 0.18888464, 0.28699884,\n",
              "       0.43783044, 0.29348852, 0.31660638, 0.34249964, 0.24684461,\n",
              "       0.27634581, 0.32729747, 0.23227543, 0.33157893, 0.35362903,\n",
              "       0.25833788, 0.34950756, 0.36065839, 0.27826931, 0.30859499,\n",
              "       0.30984645, 0.26165723, 0.28105042, 0.30138876, 0.2728523 ,\n",
              "       0.29816613, 0.33673532, 0.40159001, 0.41859189, 0.56089917,\n",
              "       0.37292924, 0.45171362, 0.5660362 , 0.51645815, 0.55204543,\n",
              "       0.57898032, 0.29937028, 0.39013104, 0.39326475, 0.15938843,\n",
              "       0.16078664, 0.18106575, 0.43375726, 0.45764816, 0.62118817,\n",
              "       0.17684049, 0.30296172, 0.4027331 , 0.15421811, 0.20534891,\n",
              "       0.24460134, 0.23855698, 0.2713894 , 0.30769587, 0.48653496,\n",
              "       0.53103119, 0.57862211, 0.20300904, 0.22134113, 0.26547987,\n",
              "       0.36716186, 0.41277935, 0.42305665, 0.57395432, 0.60223712,\n",
              "       0.6958828 , 0.24761233, 0.31563816, 0.35565171, 0.3288056 ,\n",
              "       0.54829642, 0.57135595, 0.18481839, 0.22247571, 0.22813233,\n",
              "       0.30470293, 0.30706501, 0.35608802, 0.27673641, 0.36760061,\n",
              "       0.46419407, 0.16332821, 0.18623133, 0.20849415, 0.20185953,\n",
              "       0.20387147, 0.21821201, 0.19693212, 0.25076692, 0.25257805,\n",
              "       0.27177624, 0.34001336, 0.42290638, 0.50982207, 0.68392719,\n",
              "       0.76647773, 0.38901115, 1.21905765, 1.87136688, 0.37407766,\n",
              "       0.46366837, 0.47120545, 0.18332355, 0.40009653, 0.41772102,\n",
              "       0.36574269, 0.48069054, 0.53639122, 0.2825097 , 0.5333821 ,\n",
              "       0.56190083, 0.31036506, 0.31245885, 0.45414816, 0.09771251,\n",
              "       0.40359811, 0.43917926, 0.19971014, 0.23601967, 0.29307188,\n",
              "       0.66078615, 0.70775527, 0.79756785, 0.32627816, 0.32781495,\n",
              "       0.4965851 , 0.29357476, 0.2961454 , 0.30019399, 0.45987211,\n",
              "       0.6102555 , 0.79733962, 0.3223989 , 0.37157731, 0.43238368,\n",
              "       0.13823601, 0.20269876, 0.2273396 , 0.25064349, 0.32275391,\n",
              "       0.39544163, 0.34921776, 0.47510983, 0.50876257, 0.27836433,\n",
              "       0.29443132, 0.37610807, 0.70421789, 0.76418119, 0.78628771,\n",
              "       0.29278184, 0.43560317, 0.65269181, 0.3315961 , 0.37505852,\n",
              "       0.40416713, 0.16129267, 0.16478782, 0.38350078, 0.10901308,\n",
              "       0.17841471, 0.23033198, 0.16750933, 0.43836428, 0.45112615,\n",
              "       0.41537621, 0.52479392, 0.55778914, 0.36572049, 0.49596214,\n",
              "       0.53766563, 0.1104573 , 0.14195247, 0.19050616, 0.29502466,\n",
              "       0.36246124, 0.49037894, 0.30525206, 0.33075708, 0.3382373 ,\n",
              "       0.25481679, 0.43728939, 0.47780144, 0.63904953, 0.80171139,\n",
              "       0.87536133, 0.25864796, 0.3382058 , 0.35943422, 0.3161066 ,\n",
              "       0.3468503 , 0.40019842, 0.23866286, 0.38209253, 0.43931676,\n",
              "       0.20400096, 0.20555314, 0.23189517, 0.57969252, 0.63948396,\n",
              "       0.68970583, 0.63011003, 0.71791309, 0.85661711, 0.31322407,\n",
              "       0.35551135, 0.41105435, 0.31121081, 0.33454685, 0.42802771,\n",
              "       0.34207701, 0.34866965, 0.38361627, 0.25371963, 0.2750358 ,\n",
              "       0.51543706, 0.29791037, 0.34161053, 0.38543222])"
            ]
          },
          "metadata": {},
          "execution_count": 89
        }
      ],
      "source": [
        "dis = distances[distances.nonzero()] # non-zero distances\n",
        "dis"
      ],
      "id": "60c9870b"
    },
    {
      "cell_type": "code",
      "execution_count": null,
      "metadata": {
        "id": "b784cf16",
        "colab": {
          "base_uri": "https://localhost:8080/",
          "height": 424
        },
        "outputId": "31b8cbce-11f9-4d6b-fab5-a5c8cbd01b9b"
      },
      "outputs": [
        {
          "output_type": "execute_result",
          "data": {
            "text/plain": [
              "           0\n",
              "0     109.00\n",
              "1      72.00\n",
              "2      79.00\n",
              "3      91.25\n",
              "4     428.00\n",
              "...      ...\n",
              "1651   77.50\n",
              "1652  430.00\n",
              "1653   89.25\n",
              "1654   78.25\n",
              "1655   75.50\n",
              "\n",
              "[1656 rows x 1 columns]"
            ],
            "text/html": [
              "\n",
              "  <div id=\"df-551487d7-f7fd-408a-a71e-45da7fc85b24\">\n",
              "    <div class=\"colab-df-container\">\n",
              "      <div>\n",
              "<style scoped>\n",
              "    .dataframe tbody tr th:only-of-type {\n",
              "        vertical-align: middle;\n",
              "    }\n",
              "\n",
              "    .dataframe tbody tr th {\n",
              "        vertical-align: top;\n",
              "    }\n",
              "\n",
              "    .dataframe thead th {\n",
              "        text-align: right;\n",
              "    }\n",
              "</style>\n",
              "<table border=\"1\" class=\"dataframe\">\n",
              "  <thead>\n",
              "    <tr style=\"text-align: right;\">\n",
              "      <th></th>\n",
              "      <th>0</th>\n",
              "    </tr>\n",
              "  </thead>\n",
              "  <tbody>\n",
              "    <tr>\n",
              "      <th>0</th>\n",
              "      <td>109.00</td>\n",
              "    </tr>\n",
              "    <tr>\n",
              "      <th>1</th>\n",
              "      <td>72.00</td>\n",
              "    </tr>\n",
              "    <tr>\n",
              "      <th>2</th>\n",
              "      <td>79.00</td>\n",
              "    </tr>\n",
              "    <tr>\n",
              "      <th>3</th>\n",
              "      <td>91.25</td>\n",
              "    </tr>\n",
              "    <tr>\n",
              "      <th>4</th>\n",
              "      <td>428.00</td>\n",
              "    </tr>\n",
              "    <tr>\n",
              "      <th>...</th>\n",
              "      <td>...</td>\n",
              "    </tr>\n",
              "    <tr>\n",
              "      <th>1651</th>\n",
              "      <td>77.50</td>\n",
              "    </tr>\n",
              "    <tr>\n",
              "      <th>1652</th>\n",
              "      <td>430.00</td>\n",
              "    </tr>\n",
              "    <tr>\n",
              "      <th>1653</th>\n",
              "      <td>89.25</td>\n",
              "    </tr>\n",
              "    <tr>\n",
              "      <th>1654</th>\n",
              "      <td>78.25</td>\n",
              "    </tr>\n",
              "    <tr>\n",
              "      <th>1655</th>\n",
              "      <td>75.50</td>\n",
              "    </tr>\n",
              "  </tbody>\n",
              "</table>\n",
              "<p>1656 rows × 1 columns</p>\n",
              "</div>\n",
              "      <button class=\"colab-df-convert\" onclick=\"convertToInteractive('df-551487d7-f7fd-408a-a71e-45da7fc85b24')\"\n",
              "              title=\"Convert this dataframe to an interactive table.\"\n",
              "              style=\"display:none;\">\n",
              "        \n",
              "  <svg xmlns=\"http://www.w3.org/2000/svg\" height=\"24px\"viewBox=\"0 0 24 24\"\n",
              "       width=\"24px\">\n",
              "    <path d=\"M0 0h24v24H0V0z\" fill=\"none\"/>\n",
              "    <path d=\"M18.56 5.44l.94 2.06.94-2.06 2.06-.94-2.06-.94-.94-2.06-.94 2.06-2.06.94zm-11 1L8.5 8.5l.94-2.06 2.06-.94-2.06-.94L8.5 2.5l-.94 2.06-2.06.94zm10 10l.94 2.06.94-2.06 2.06-.94-2.06-.94-.94-2.06-.94 2.06-2.06.94z\"/><path d=\"M17.41 7.96l-1.37-1.37c-.4-.4-.92-.59-1.43-.59-.52 0-1.04.2-1.43.59L10.3 9.45l-7.72 7.72c-.78.78-.78 2.05 0 2.83L4 21.41c.39.39.9.59 1.41.59.51 0 1.02-.2 1.41-.59l7.78-7.78 2.81-2.81c.8-.78.8-2.07 0-2.86zM5.41 20L4 18.59l7.72-7.72 1.47 1.35L5.41 20z\"/>\n",
              "  </svg>\n",
              "      </button>\n",
              "      \n",
              "  <style>\n",
              "    .colab-df-container {\n",
              "      display:flex;\n",
              "      flex-wrap:wrap;\n",
              "      gap: 12px;\n",
              "    }\n",
              "\n",
              "    .colab-df-convert {\n",
              "      background-color: #E8F0FE;\n",
              "      border: none;\n",
              "      border-radius: 50%;\n",
              "      cursor: pointer;\n",
              "      display: none;\n",
              "      fill: #1967D2;\n",
              "      height: 32px;\n",
              "      padding: 0 0 0 0;\n",
              "      width: 32px;\n",
              "    }\n",
              "\n",
              "    .colab-df-convert:hover {\n",
              "      background-color: #E2EBFA;\n",
              "      box-shadow: 0px 1px 2px rgba(60, 64, 67, 0.3), 0px 1px 3px 1px rgba(60, 64, 67, 0.15);\n",
              "      fill: #174EA6;\n",
              "    }\n",
              "\n",
              "    [theme=dark] .colab-df-convert {\n",
              "      background-color: #3B4455;\n",
              "      fill: #D2E3FC;\n",
              "    }\n",
              "\n",
              "    [theme=dark] .colab-df-convert:hover {\n",
              "      background-color: #434B5C;\n",
              "      box-shadow: 0px 1px 3px 1px rgba(0, 0, 0, 0.15);\n",
              "      filter: drop-shadow(0px 1px 2px rgba(0, 0, 0, 0.3));\n",
              "      fill: #FFFFFF;\n",
              "    }\n",
              "  </style>\n",
              "\n",
              "      <script>\n",
              "        const buttonEl =\n",
              "          document.querySelector('#df-551487d7-f7fd-408a-a71e-45da7fc85b24 button.colab-df-convert');\n",
              "        buttonEl.style.display =\n",
              "          google.colab.kernel.accessAllowed ? 'block' : 'none';\n",
              "\n",
              "        async function convertToInteractive(key) {\n",
              "          const element = document.querySelector('#df-551487d7-f7fd-408a-a71e-45da7fc85b24');\n",
              "          const dataTable =\n",
              "            await google.colab.kernel.invokeFunction('convertToInteractive',\n",
              "                                                     [key], {});\n",
              "          if (!dataTable) return;\n",
              "\n",
              "          const docLinkHtml = 'Like what you see? Visit the ' +\n",
              "            '<a target=\"_blank\" href=https://colab.research.google.com/notebooks/data_table.ipynb>data table notebook</a>'\n",
              "            + ' to learn more about interactive tables.';\n",
              "          element.innerHTML = '';\n",
              "          dataTable['output_type'] = 'display_data';\n",
              "          await google.colab.output.renderOutput(dataTable, element);\n",
              "          const docLink = document.createElement('div');\n",
              "          docLink.innerHTML = docLinkHtml;\n",
              "          element.appendChild(docLink);\n",
              "        }\n",
              "      </script>\n",
              "    </div>\n",
              "  </div>\n",
              "  "
            ]
          },
          "metadata": {},
          "execution_count": 90
        }
      ],
      "source": [
        "k_near = pd.DataFrame()\n",
        "for val in zip(*distances.nonzero()):\n",
        "    k_near = pd.concat([k_near, X_train.iloc[val[1]]], ignore_index=True)\n",
        "k_near"
      ],
      "id": "b784cf16"
    },
    {
      "cell_type": "code",
      "execution_count": null,
      "metadata": {
        "id": "B3TFNY2daOKx",
        "colab": {
          "base_uri": "https://localhost:8080/",
          "height": 459
        },
        "outputId": "0da73547-bd52-41df-d980-8707007d4758"
      },
      "outputs": [
        {
          "output_type": "display_data",
          "data": {
            "text/plain": [
              "<Figure size 640x480 with 1 Axes>"
            ],
            "image/png": "[encoded data removed]"
          },
          "metadata": {}
        }
      ],
      "source": [
        "accuracy = classifier.score(X_test_scaled, y_test)\n",
        "\n",
        "fig, ax = plt.subplots()\n",
        "ax.bar(['Accuracy'], [accuracy], color='blue')\n",
        "\n",
        "ax.set_ylabel('Accuracy')\n",
        "ax.set_ylim(0, 1)\n",
        "\n",
        "for i, v in enumerate([accuracy]):\n",
        "    ax.text(i, v + 0.05, f'{v:.2f}', ha='center')\n",
        "\n",
        "plt.show()"
      ],
      "id": "B3TFNY2daOKx"
    }
  ],
  "metadata": {
    "colab": {
      "provenance": [],
      "include_colab_link": true
    },
    "kernelspec": {
      "display_name": "Python 3",
      "language": "python",
      "name": "python3"
    },
    "language_info": {
      "codemirror_mode": {
        "name": "ipython",
        "version": 3
      },
      "file_extension": ".py",
      "mimetype": "text/x-python",
      "name": "python",
      "nbconvert_exporter": "python",
      "pygments_lexer": "ipython3",
      "version": "3.7.10"
    },
    "papermill": {
      "default_parameters": {},
      "duration": 17.865892,
      "end_time": "2021-11-07T12:22:14.891962",
      "environment_variables": {},
      "exception": null,
      "input_path": "__notebook__.ipynb",
      "output_path": "__notebook__.ipynb",
      "parameters": {},
      "start_time": "2021-11-07T12:21:57.026070",
      "version": "2.3.3"
    }
  },
  "nbformat": 4,
  "nbformat_minor": 5
}